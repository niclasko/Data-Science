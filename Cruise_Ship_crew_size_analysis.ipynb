{
  "nbformat": 4,
  "nbformat_minor": 0,
  "metadata": {
    "kernelspec": {
      "display_name": "Python 3.7.3 64-bit",
      "language": "python",
      "name": "python37364bit0e3addfe218144d2859f14a55c8b34c8"
    },
    "language_info": {
      "codemirror_mode": {
        "name": "ipython",
        "version": 3
      },
      "file_extension": ".py",
      "mimetype": "text/x-python",
      "name": "python",
      "nbconvert_exporter": "python",
      "pygments_lexer": "ipython3",
      "version": "3.7.3"
    },
    "colab": {
      "name": "Cruise Ship crew size analysis.ipynb",
      "provenance": [],
      "collapsed_sections": [],
      "include_colab_link": true
    }
  },
  "cells": [
    {
      "cell_type": "markdown",
      "metadata": {
        "id": "view-in-github",
        "colab_type": "text"
      },
      "source": [
        "<a href=\"https://colab.research.google.com/github/niclasko/Data-Science/blob/main/Cruise_Ship_crew_size_analysis.ipynb\" target=\"_parent\"><img src=\"https://colab.research.google.com/assets/colab-badge.svg\" alt=\"Open In Colab\"/></a>"
      ]
    },
    {
      "cell_type": "markdown",
      "metadata": {
        "id": "NlvWyHwtm2Gh"
      },
      "source": [
        "### Cruise Ship crew size analysis\n",
        "Predict cruise ship crew size based on ship characteristics.<br>\n",
        "<b>Author:</b> Niclas Kjäll-Ohlsson (niclasko@gmail.com)"
      ]
    },
    {
      "cell_type": "markdown",
      "metadata": {
        "id": "ilSbTQKSm2Gk"
      },
      "source": [
        "#### Import libraries"
      ]
    },
    {
      "cell_type": "code",
      "metadata": {
        "id": "PH10zkX4m2Gl",
        "colab": {
          "base_uri": "https://localhost:8080/"
        },
        "outputId": "49d2d660-4efb-40b8-b398-86c8d0e12330"
      },
      "source": [
        "# Data wrangling\n",
        "import pandas as pd\n",
        "import numpy as np\n",
        "\n",
        "# Modeling\n",
        "from sklearn.decomposition import TruncatedSVD\n",
        "from sklearn.cluster import KMeans\n",
        "from sklearn.linear_model import Ridge\n",
        "from sklearn.model_selection import train_test_split, cross_validate\n",
        "from sklearn.metrics.scorer import make_scorer\n",
        "\n",
        "# Metrics\n",
        "from sklearn.metrics import mean_squared_error, r2_score\n",
        "from scipy.stats import pearsonr\n",
        "\n",
        "# Plotting\n",
        "import matplotlib.pyplot as plt\n",
        "import plotly.express as px"
      ],
      "execution_count": null,
      "outputs": [
        {
          "output_type": "stream",
          "text": [
            "/usr/local/lib/python3.7/dist-packages/sklearn/utils/deprecation.py:144: FutureWarning: The sklearn.metrics.scorer module is  deprecated in version 0.22 and will be removed in version 0.24. The corresponding classes / functions should instead be imported from sklearn.metrics. Anything that cannot be imported from sklearn.metrics is now part of the private API.\n",
            "  warnings.warn(message, FutureWarning)\n"
          ],
          "name": "stderr"
        }
      ]
    },
    {
      "cell_type": "markdown",
      "metadata": {
        "id": "LFxNwR0mm2Gu"
      },
      "source": [
        "#### Read data"
      ]
    },
    {
      "cell_type": "code",
      "metadata": {
        "id": "Ga9gaLCZm2Gv",
        "colab": {
          "base_uri": "https://localhost:8080/",
          "height": 224
        },
        "outputId": "95538b42-4e30-4dad-b193-2c0d0fc871cb"
      },
      "source": [
        "data = pd.read_csv(\"https://raw.githubusercontent.com/niclasko/niclasko.github.io/master/data/cruise_ship_info.csv\")\n",
        "\n",
        "categorical = [\"Ship_name\", \"Cruise_line\"]\n",
        "numerical = [\"Age\", \"Tonnage\", \"passengers\", \"length\", \"cabins\", \"passenger_density\", \"crew\"]\n",
        "target_variable = \"crew\"\n",
        "numerical_independent_variables = [i for i in numerical if i!=target_variable]\n",
        "\n",
        "\n",
        "data.head(5)"
      ],
      "execution_count": null,
      "outputs": [
        {
          "output_type": "execute_result",
          "data": {
            "text/html": [
              "<div>\n",
              "<style scoped>\n",
              "    .dataframe tbody tr th:only-of-type {\n",
              "        vertical-align: middle;\n",
              "    }\n",
              "\n",
              "    .dataframe tbody tr th {\n",
              "        vertical-align: top;\n",
              "    }\n",
              "\n",
              "    .dataframe thead th {\n",
              "        text-align: right;\n",
              "    }\n",
              "</style>\n",
              "<table border=\"1\" class=\"dataframe\">\n",
              "  <thead>\n",
              "    <tr style=\"text-align: right;\">\n",
              "      <th></th>\n",
              "      <th>Ship_name</th>\n",
              "      <th>Cruise_line</th>\n",
              "      <th>Age</th>\n",
              "      <th>Tonnage</th>\n",
              "      <th>passengers</th>\n",
              "      <th>length</th>\n",
              "      <th>cabins</th>\n",
              "      <th>passenger_density</th>\n",
              "      <th>crew</th>\n",
              "    </tr>\n",
              "  </thead>\n",
              "  <tbody>\n",
              "    <tr>\n",
              "      <th>0</th>\n",
              "      <td>Journey</td>\n",
              "      <td>Azamara</td>\n",
              "      <td>6</td>\n",
              "      <td>30.277</td>\n",
              "      <td>6.94</td>\n",
              "      <td>5.94</td>\n",
              "      <td>3.55</td>\n",
              "      <td>42.64</td>\n",
              "      <td>3.55</td>\n",
              "    </tr>\n",
              "    <tr>\n",
              "      <th>1</th>\n",
              "      <td>Quest</td>\n",
              "      <td>Azamara</td>\n",
              "      <td>6</td>\n",
              "      <td>30.277</td>\n",
              "      <td>6.94</td>\n",
              "      <td>5.94</td>\n",
              "      <td>3.55</td>\n",
              "      <td>42.64</td>\n",
              "      <td>3.55</td>\n",
              "    </tr>\n",
              "    <tr>\n",
              "      <th>2</th>\n",
              "      <td>Celebration</td>\n",
              "      <td>Carnival</td>\n",
              "      <td>26</td>\n",
              "      <td>47.262</td>\n",
              "      <td>14.86</td>\n",
              "      <td>7.22</td>\n",
              "      <td>7.43</td>\n",
              "      <td>31.80</td>\n",
              "      <td>6.70</td>\n",
              "    </tr>\n",
              "    <tr>\n",
              "      <th>3</th>\n",
              "      <td>Conquest</td>\n",
              "      <td>Carnival</td>\n",
              "      <td>11</td>\n",
              "      <td>110.000</td>\n",
              "      <td>29.74</td>\n",
              "      <td>9.53</td>\n",
              "      <td>14.88</td>\n",
              "      <td>36.99</td>\n",
              "      <td>19.10</td>\n",
              "    </tr>\n",
              "    <tr>\n",
              "      <th>4</th>\n",
              "      <td>Destiny</td>\n",
              "      <td>Carnival</td>\n",
              "      <td>17</td>\n",
              "      <td>101.353</td>\n",
              "      <td>26.42</td>\n",
              "      <td>8.92</td>\n",
              "      <td>13.21</td>\n",
              "      <td>38.36</td>\n",
              "      <td>10.00</td>\n",
              "    </tr>\n",
              "  </tbody>\n",
              "</table>\n",
              "</div>"
            ],
            "text/plain": [
              "     Ship_name Cruise_line  Age  ...  cabins  passenger_density   crew\n",
              "0      Journey     Azamara    6  ...    3.55              42.64   3.55\n",
              "1        Quest     Azamara    6  ...    3.55              42.64   3.55\n",
              "2  Celebration    Carnival   26  ...    7.43              31.80   6.70\n",
              "3     Conquest    Carnival   11  ...   14.88              36.99  19.10\n",
              "4      Destiny    Carnival   17  ...   13.21              38.36  10.00\n",
              "\n",
              "[5 rows x 9 columns]"
            ]
          },
          "metadata": {
            "tags": []
          },
          "execution_count": 3
        }
      ]
    },
    {
      "cell_type": "markdown",
      "metadata": {
        "id": "eo8sGw0Ynz1K"
      },
      "source": [
        "Simple statistics over data"
      ]
    },
    {
      "cell_type": "code",
      "metadata": {
        "id": "3Vrcoh8Hn3ie",
        "colab": {
          "base_uri": "https://localhost:8080/",
          "height": 317
        },
        "outputId": "7c41e8f6-19ae-4b20-ef60-ff16bc9f9a89"
      },
      "source": [
        "data.describe()"
      ],
      "execution_count": null,
      "outputs": [
        {
          "output_type": "execute_result",
          "data": {
            "text/html": [
              "<div>\n",
              "<style scoped>\n",
              "    .dataframe tbody tr th:only-of-type {\n",
              "        vertical-align: middle;\n",
              "    }\n",
              "\n",
              "    .dataframe tbody tr th {\n",
              "        vertical-align: top;\n",
              "    }\n",
              "\n",
              "    .dataframe thead th {\n",
              "        text-align: right;\n",
              "    }\n",
              "</style>\n",
              "<table border=\"1\" class=\"dataframe\">\n",
              "  <thead>\n",
              "    <tr style=\"text-align: right;\">\n",
              "      <th></th>\n",
              "      <th>Age</th>\n",
              "      <th>Tonnage</th>\n",
              "      <th>passengers</th>\n",
              "      <th>length</th>\n",
              "      <th>cabins</th>\n",
              "      <th>passenger_density</th>\n",
              "      <th>crew</th>\n",
              "    </tr>\n",
              "  </thead>\n",
              "  <tbody>\n",
              "    <tr>\n",
              "      <th>count</th>\n",
              "      <td>158.000000</td>\n",
              "      <td>158.000000</td>\n",
              "      <td>158.000000</td>\n",
              "      <td>158.000000</td>\n",
              "      <td>158.000000</td>\n",
              "      <td>158.000000</td>\n",
              "      <td>158.000000</td>\n",
              "    </tr>\n",
              "    <tr>\n",
              "      <th>mean</th>\n",
              "      <td>15.689873</td>\n",
              "      <td>71.284671</td>\n",
              "      <td>18.457405</td>\n",
              "      <td>8.130633</td>\n",
              "      <td>8.830000</td>\n",
              "      <td>39.900949</td>\n",
              "      <td>7.794177</td>\n",
              "    </tr>\n",
              "    <tr>\n",
              "      <th>std</th>\n",
              "      <td>7.615691</td>\n",
              "      <td>37.229540</td>\n",
              "      <td>9.677095</td>\n",
              "      <td>1.793474</td>\n",
              "      <td>4.471417</td>\n",
              "      <td>8.639217</td>\n",
              "      <td>3.503487</td>\n",
              "    </tr>\n",
              "    <tr>\n",
              "      <th>min</th>\n",
              "      <td>4.000000</td>\n",
              "      <td>2.329000</td>\n",
              "      <td>0.660000</td>\n",
              "      <td>2.790000</td>\n",
              "      <td>0.330000</td>\n",
              "      <td>17.700000</td>\n",
              "      <td>0.590000</td>\n",
              "    </tr>\n",
              "    <tr>\n",
              "      <th>25%</th>\n",
              "      <td>10.000000</td>\n",
              "      <td>46.013000</td>\n",
              "      <td>12.535000</td>\n",
              "      <td>7.100000</td>\n",
              "      <td>6.132500</td>\n",
              "      <td>34.570000</td>\n",
              "      <td>5.480000</td>\n",
              "    </tr>\n",
              "    <tr>\n",
              "      <th>50%</th>\n",
              "      <td>14.000000</td>\n",
              "      <td>71.899000</td>\n",
              "      <td>19.500000</td>\n",
              "      <td>8.555000</td>\n",
              "      <td>9.570000</td>\n",
              "      <td>39.085000</td>\n",
              "      <td>8.150000</td>\n",
              "    </tr>\n",
              "    <tr>\n",
              "      <th>75%</th>\n",
              "      <td>20.000000</td>\n",
              "      <td>90.772500</td>\n",
              "      <td>24.845000</td>\n",
              "      <td>9.510000</td>\n",
              "      <td>10.885000</td>\n",
              "      <td>44.185000</td>\n",
              "      <td>9.990000</td>\n",
              "    </tr>\n",
              "    <tr>\n",
              "      <th>max</th>\n",
              "      <td>48.000000</td>\n",
              "      <td>220.000000</td>\n",
              "      <td>54.000000</td>\n",
              "      <td>11.820000</td>\n",
              "      <td>27.000000</td>\n",
              "      <td>71.430000</td>\n",
              "      <td>21.000000</td>\n",
              "    </tr>\n",
              "  </tbody>\n",
              "</table>\n",
              "</div>"
            ],
            "text/plain": [
              "              Age     Tonnage  ...  passenger_density        crew\n",
              "count  158.000000  158.000000  ...         158.000000  158.000000\n",
              "mean    15.689873   71.284671  ...          39.900949    7.794177\n",
              "std      7.615691   37.229540  ...           8.639217    3.503487\n",
              "min      4.000000    2.329000  ...          17.700000    0.590000\n",
              "25%     10.000000   46.013000  ...          34.570000    5.480000\n",
              "50%     14.000000   71.899000  ...          39.085000    8.150000\n",
              "75%     20.000000   90.772500  ...          44.185000    9.990000\n",
              "max     48.000000  220.000000  ...          71.430000   21.000000\n",
              "\n",
              "[8 rows x 7 columns]"
            ]
          },
          "metadata": {
            "tags": []
          },
          "execution_count": 4
        }
      ]
    },
    {
      "cell_type": "markdown",
      "metadata": {
        "id": "zhnDEM6hm2G4"
      },
      "source": [
        "#### One-hot encode categorical variable Cruise_line\n",
        "Here we create one column per value of Cruise_line where 0/1 denotes observation not having corresponding Cruise_line value or having. A possible usage of this one-hot encoding is for modeling interaction terms between numerical variables and Cruise_line, e.g. Orient*Tonnage. This to capture numerical variable distribution conditioned on Cruise_line."
      ]
    },
    {
      "cell_type": "code",
      "metadata": {
        "id": "FR0gWlPHm2G5",
        "colab": {
          "base_uri": "https://localhost:8080/",
          "height": 224
        },
        "outputId": "074226eb-98a0-4879-d277-634c01effa83"
      },
      "source": [
        "one_hots = pd.get_dummies(data[\"Cruise_line\"])\n",
        "one_hot_variables = one_hots.columns.values.tolist()\n",
        "\n",
        "data = data.join(one_hots)\n",
        "\n",
        "data.head(5)"
      ],
      "execution_count": null,
      "outputs": [
        {
          "output_type": "execute_result",
          "data": {
            "text/html": [
              "<div>\n",
              "<style scoped>\n",
              "    .dataframe tbody tr th:only-of-type {\n",
              "        vertical-align: middle;\n",
              "    }\n",
              "\n",
              "    .dataframe tbody tr th {\n",
              "        vertical-align: top;\n",
              "    }\n",
              "\n",
              "    .dataframe thead th {\n",
              "        text-align: right;\n",
              "    }\n",
              "</style>\n",
              "<table border=\"1\" class=\"dataframe\">\n",
              "  <thead>\n",
              "    <tr style=\"text-align: right;\">\n",
              "      <th></th>\n",
              "      <th>Ship_name</th>\n",
              "      <th>Cruise_line</th>\n",
              "      <th>Age</th>\n",
              "      <th>Tonnage</th>\n",
              "      <th>passengers</th>\n",
              "      <th>length</th>\n",
              "      <th>cabins</th>\n",
              "      <th>passenger_density</th>\n",
              "      <th>crew</th>\n",
              "      <th>Azamara</th>\n",
              "      <th>Carnival</th>\n",
              "      <th>Celebrity</th>\n",
              "      <th>Costa</th>\n",
              "      <th>Crystal</th>\n",
              "      <th>Cunard</th>\n",
              "      <th>Disney</th>\n",
              "      <th>Holland_American</th>\n",
              "      <th>MSC</th>\n",
              "      <th>Norwegian</th>\n",
              "      <th>Oceania</th>\n",
              "      <th>Orient</th>\n",
              "      <th>P&amp;O</th>\n",
              "      <th>Princess</th>\n",
              "      <th>Regent_Seven_Seas</th>\n",
              "      <th>Royal_Caribbean</th>\n",
              "      <th>Seabourn</th>\n",
              "      <th>Silversea</th>\n",
              "      <th>Star</th>\n",
              "      <th>Windstar</th>\n",
              "    </tr>\n",
              "  </thead>\n",
              "  <tbody>\n",
              "    <tr>\n",
              "      <th>0</th>\n",
              "      <td>Journey</td>\n",
              "      <td>Azamara</td>\n",
              "      <td>6</td>\n",
              "      <td>30.277</td>\n",
              "      <td>6.94</td>\n",
              "      <td>5.94</td>\n",
              "      <td>3.55</td>\n",
              "      <td>42.64</td>\n",
              "      <td>3.55</td>\n",
              "      <td>1</td>\n",
              "      <td>0</td>\n",
              "      <td>0</td>\n",
              "      <td>0</td>\n",
              "      <td>0</td>\n",
              "      <td>0</td>\n",
              "      <td>0</td>\n",
              "      <td>0</td>\n",
              "      <td>0</td>\n",
              "      <td>0</td>\n",
              "      <td>0</td>\n",
              "      <td>0</td>\n",
              "      <td>0</td>\n",
              "      <td>0</td>\n",
              "      <td>0</td>\n",
              "      <td>0</td>\n",
              "      <td>0</td>\n",
              "      <td>0</td>\n",
              "      <td>0</td>\n",
              "      <td>0</td>\n",
              "    </tr>\n",
              "    <tr>\n",
              "      <th>1</th>\n",
              "      <td>Quest</td>\n",
              "      <td>Azamara</td>\n",
              "      <td>6</td>\n",
              "      <td>30.277</td>\n",
              "      <td>6.94</td>\n",
              "      <td>5.94</td>\n",
              "      <td>3.55</td>\n",
              "      <td>42.64</td>\n",
              "      <td>3.55</td>\n",
              "      <td>1</td>\n",
              "      <td>0</td>\n",
              "      <td>0</td>\n",
              "      <td>0</td>\n",
              "      <td>0</td>\n",
              "      <td>0</td>\n",
              "      <td>0</td>\n",
              "      <td>0</td>\n",
              "      <td>0</td>\n",
              "      <td>0</td>\n",
              "      <td>0</td>\n",
              "      <td>0</td>\n",
              "      <td>0</td>\n",
              "      <td>0</td>\n",
              "      <td>0</td>\n",
              "      <td>0</td>\n",
              "      <td>0</td>\n",
              "      <td>0</td>\n",
              "      <td>0</td>\n",
              "      <td>0</td>\n",
              "    </tr>\n",
              "    <tr>\n",
              "      <th>2</th>\n",
              "      <td>Celebration</td>\n",
              "      <td>Carnival</td>\n",
              "      <td>26</td>\n",
              "      <td>47.262</td>\n",
              "      <td>14.86</td>\n",
              "      <td>7.22</td>\n",
              "      <td>7.43</td>\n",
              "      <td>31.80</td>\n",
              "      <td>6.70</td>\n",
              "      <td>0</td>\n",
              "      <td>1</td>\n",
              "      <td>0</td>\n",
              "      <td>0</td>\n",
              "      <td>0</td>\n",
              "      <td>0</td>\n",
              "      <td>0</td>\n",
              "      <td>0</td>\n",
              "      <td>0</td>\n",
              "      <td>0</td>\n",
              "      <td>0</td>\n",
              "      <td>0</td>\n",
              "      <td>0</td>\n",
              "      <td>0</td>\n",
              "      <td>0</td>\n",
              "      <td>0</td>\n",
              "      <td>0</td>\n",
              "      <td>0</td>\n",
              "      <td>0</td>\n",
              "      <td>0</td>\n",
              "    </tr>\n",
              "    <tr>\n",
              "      <th>3</th>\n",
              "      <td>Conquest</td>\n",
              "      <td>Carnival</td>\n",
              "      <td>11</td>\n",
              "      <td>110.000</td>\n",
              "      <td>29.74</td>\n",
              "      <td>9.53</td>\n",
              "      <td>14.88</td>\n",
              "      <td>36.99</td>\n",
              "      <td>19.10</td>\n",
              "      <td>0</td>\n",
              "      <td>1</td>\n",
              "      <td>0</td>\n",
              "      <td>0</td>\n",
              "      <td>0</td>\n",
              "      <td>0</td>\n",
              "      <td>0</td>\n",
              "      <td>0</td>\n",
              "      <td>0</td>\n",
              "      <td>0</td>\n",
              "      <td>0</td>\n",
              "      <td>0</td>\n",
              "      <td>0</td>\n",
              "      <td>0</td>\n",
              "      <td>0</td>\n",
              "      <td>0</td>\n",
              "      <td>0</td>\n",
              "      <td>0</td>\n",
              "      <td>0</td>\n",
              "      <td>0</td>\n",
              "    </tr>\n",
              "    <tr>\n",
              "      <th>4</th>\n",
              "      <td>Destiny</td>\n",
              "      <td>Carnival</td>\n",
              "      <td>17</td>\n",
              "      <td>101.353</td>\n",
              "      <td>26.42</td>\n",
              "      <td>8.92</td>\n",
              "      <td>13.21</td>\n",
              "      <td>38.36</td>\n",
              "      <td>10.00</td>\n",
              "      <td>0</td>\n",
              "      <td>1</td>\n",
              "      <td>0</td>\n",
              "      <td>0</td>\n",
              "      <td>0</td>\n",
              "      <td>0</td>\n",
              "      <td>0</td>\n",
              "      <td>0</td>\n",
              "      <td>0</td>\n",
              "      <td>0</td>\n",
              "      <td>0</td>\n",
              "      <td>0</td>\n",
              "      <td>0</td>\n",
              "      <td>0</td>\n",
              "      <td>0</td>\n",
              "      <td>0</td>\n",
              "      <td>0</td>\n",
              "      <td>0</td>\n",
              "      <td>0</td>\n",
              "      <td>0</td>\n",
              "    </tr>\n",
              "  </tbody>\n",
              "</table>\n",
              "</div>"
            ],
            "text/plain": [
              "     Ship_name Cruise_line  Age  Tonnage  ...  Seabourn  Silversea  Star  Windstar\n",
              "0      Journey     Azamara    6   30.277  ...         0          0     0         0\n",
              "1        Quest     Azamara    6   30.277  ...         0          0     0         0\n",
              "2  Celebration    Carnival   26   47.262  ...         0          0     0         0\n",
              "3     Conquest    Carnival   11  110.000  ...         0          0     0         0\n",
              "4      Destiny    Carnival   17  101.353  ...         0          0     0         0\n",
              "\n",
              "[5 rows x 29 columns]"
            ]
          },
          "metadata": {
            "tags": []
          },
          "execution_count": 5
        }
      ]
    },
    {
      "cell_type": "markdown",
      "metadata": {
        "id": "WhMDsYCxm2HA"
      },
      "source": [
        "### Exploratory Data Analysis"
      ]
    },
    {
      "cell_type": "markdown",
      "metadata": {
        "id": "S-vKd2P7m2HB"
      },
      "source": [
        "#### Target variable analysis\n",
        "We can see that the target variable crew size is fairly normally distributed around mode of 9.2, and mean of around 7.7, with a slight skewing towards lower values. We can see two outliers at around 20, which are both well above the 95th percentile (~12.5)."
      ]
    },
    {
      "cell_type": "code",
      "metadata": {
        "id": "v9XZmas0m2HC",
        "colab": {
          "base_uri": "https://localhost:8080/",
          "height": 233
        },
        "outputId": "dc206160-99a7-4374-8c63-87792051b69b"
      },
      "source": [
        "crew_hist = plt.hist(data.crew, bins=20, color=\"blue\", edgecolor=\"k\", alpha=0.65)\n",
        "crew_quantiles = data.crew.quantile([.05,.95]).values\n",
        "plt.axvline(crew_quantiles[0], color=\"y\", linestyle=\"dashed\", linewidth=2)\n",
        "plt.text(crew_quantiles[0], 15, \"5% percentile\", rotation=90)\n",
        "plt.axvline(crew_quantiles[1], color=\"y\", linestyle=\"dashed\", linewidth=2)\n",
        "plt.text(crew_quantiles[1], 15, \"95% percentile\", rotation=90)\n",
        "plt.axvline(data.crew.mode().values[0], color='r', linestyle=\"dashed\", linewidth=2)\n",
        "plt.text(data.crew.mode().values[0], 15, \"mode\", rotation=90)\n",
        "plt.axvline(data.crew.mean(), color=\"black\", linestyle=\"dashed\", linewidth=2)\n",
        "plt.text(data.crew.mean(), 15, \"mean\", rotation=90)\n",
        "plt.xlabel(\"Crew Size\")\n",
        "plt.ylabel(\"Frequency\")\n",
        "plt.title(\"Ship crew size distribution\")\n",
        "plt.show()"
      ],
      "execution_count": null,
      "outputs": [
        {
          "output_type": "display_data",
          "data": {
            "image/png": "[encoded data removed]",
            "text/plain": [
              "<Figure size 432x288 with 1 Axes>"
            ]
          },
          "metadata": {
            "tags": [],
            "needs_background": "light"
          }
        }
      ]
    },
    {
      "cell_type": "markdown",
      "metadata": {
        "id": "szfMj0Gzm2HT"
      },
      "source": [
        "#### Independent variable analysis\n",
        "Looking at the correlation (Pearson) between the different numerical variables (Tonnage, passengers, length, cabins, passenger_density & crew) we can see that there is a strong positive correlation between all variables except for passenger_density. Age shows a medium negative correlation to crew size. All in all we have indication of linearity between variables, except for passenger_density which shows a weaker correlation signal and a negative one. Variables with strong correlation are good predictors in a regression model, hence will likely predict target variable crew size well.\n",
        "\n",
        "Pearson correlation is defined as:\n",
        "\n",
        "$\\rho_{X,Y} = \\frac{\\text{cov}(X,Y)}{\\sigma_x \\sigma_y}$, where<br>\n",
        "$cov_{X,Y} = \\sum_{i=1}^{n} (x_i - \\bar{x})(y_i - \\bar{y})$ and <br>\n",
        "$\\bar{x} = \\frac{1}{N} \\sum_{i=1}^N x_i$ and <br>\n",
        "$\\sigma = \\sqrt{\\frac{1}{N} \\sum_{i=1}^N (x_i - \\bar{x})^2}$<br>\n",
        "\n",
        "How to interpret Pearson correlation (source: https://en.wikipedia.org/wiki/Pearson_correlation_coefficient):<br><br>\n",
        "<i>The correlation coefficient ranges from −1 to 1. A value of 1 implies that a linear equation describes the relationship between X and Y perfectly, with all data points lying on a line for which Y increases as X increases. A value of −1 implies that all data points lie on a line for which Y decreases as X increases. A value of 0 implies that there is no linear correlation between the variables.</i>"
      ]
    },
    {
      "cell_type": "code",
      "metadata": {
        "id": "yONDRGITm2HU",
        "colab": {
          "base_uri": "https://localhost:8080/",
          "height": 207
        },
        "outputId": "aa22e018-801d-49ce-f6d3-dac358ecfd51"
      },
      "source": [
        "corr = data[numerical].corr()\n",
        "corr.style.background_gradient(cmap=\"BrBG\")"
      ],
      "execution_count": null,
      "outputs": [
        {
          "output_type": "execute_result",
          "data": {
            "text/html": [
              "<style  type=\"text/css\" >\n",
              "#T_cf2ba3a2_c57f_11eb_9b6a_0242ac1c0002row0_col0,#T_cf2ba3a2_c57f_11eb_9b6a_0242ac1c0002row1_col1,#T_cf2ba3a2_c57f_11eb_9b6a_0242ac1c0002row2_col2,#T_cf2ba3a2_c57f_11eb_9b6a_0242ac1c0002row3_col3,#T_cf2ba3a2_c57f_11eb_9b6a_0242ac1c0002row4_col4,#T_cf2ba3a2_c57f_11eb_9b6a_0242ac1c0002row5_col5,#T_cf2ba3a2_c57f_11eb_9b6a_0242ac1c0002row6_col6{\n",
              "            background-color:  #003c30;\n",
              "            color:  #f1f1f1;\n",
              "        }#T_cf2ba3a2_c57f_11eb_9b6a_0242ac1c0002row0_col1,#T_cf2ba3a2_c57f_11eb_9b6a_0242ac1c0002row0_col2,#T_cf2ba3a2_c57f_11eb_9b6a_0242ac1c0002row0_col3,#T_cf2ba3a2_c57f_11eb_9b6a_0242ac1c0002row0_col4,#T_cf2ba3a2_c57f_11eb_9b6a_0242ac1c0002row0_col6,#T_cf2ba3a2_c57f_11eb_9b6a_0242ac1c0002row1_col0,#T_cf2ba3a2_c57f_11eb_9b6a_0242ac1c0002row2_col5{\n",
              "            background-color:  #543005;\n",
              "            color:  #f1f1f1;\n",
              "        }#T_cf2ba3a2_c57f_11eb_9b6a_0242ac1c0002row0_col5{\n",
              "            background-color:  #5b3406;\n",
              "            color:  #f1f1f1;\n",
              "        }#T_cf2ba3a2_c57f_11eb_9b6a_0242ac1c0002row1_col2{\n",
              "            background-color:  #004b40;\n",
              "            color:  #f1f1f1;\n",
              "        }#T_cf2ba3a2_c57f_11eb_9b6a_0242ac1c0002row1_col3,#T_cf2ba3a2_c57f_11eb_9b6a_0242ac1c0002row1_col6,#T_cf2ba3a2_c57f_11eb_9b6a_0242ac1c0002row3_col1{\n",
              "            background-color:  #005046;\n",
              "            color:  #f1f1f1;\n",
              "        }#T_cf2ba3a2_c57f_11eb_9b6a_0242ac1c0002row1_col4,#T_cf2ba3a2_c57f_11eb_9b6a_0242ac1c0002row2_col1,#T_cf2ba3a2_c57f_11eb_9b6a_0242ac1c0002row4_col1,#T_cf2ba3a2_c57f_11eb_9b6a_0242ac1c0002row4_col6,#T_cf2ba3a2_c57f_11eb_9b6a_0242ac1c0002row6_col4{\n",
              "            background-color:  #00493e;\n",
              "            color:  #f1f1f1;\n",
              "        }#T_cf2ba3a2_c57f_11eb_9b6a_0242ac1c0002row1_col5{\n",
              "            background-color:  #bd7f2c;\n",
              "            color:  #000000;\n",
              "        }#T_cf2ba3a2_c57f_11eb_9b6a_0242ac1c0002row2_col0{\n",
              "            background-color:  #734208;\n",
              "            color:  #f1f1f1;\n",
              "        }#T_cf2ba3a2_c57f_11eb_9b6a_0242ac1c0002row2_col3,#T_cf2ba3a2_c57f_11eb_9b6a_0242ac1c0002row3_col2{\n",
              "            background-color:  #015b52;\n",
              "            color:  #f1f1f1;\n",
              "        }#T_cf2ba3a2_c57f_11eb_9b6a_0242ac1c0002row2_col4{\n",
              "            background-color:  #004337;\n",
              "            color:  #f1f1f1;\n",
              "        }#T_cf2ba3a2_c57f_11eb_9b6a_0242ac1c0002row2_col6,#T_cf2ba3a2_c57f_11eb_9b6a_0242ac1c0002row6_col2{\n",
              "            background-color:  #015349;\n",
              "            color:  #f1f1f1;\n",
              "        }#T_cf2ba3a2_c57f_11eb_9b6a_0242ac1c0002row3_col0{\n",
              "            background-color:  #6c3e07;\n",
              "            color:  #f1f1f1;\n",
              "        }#T_cf2ba3a2_c57f_11eb_9b6a_0242ac1c0002row3_col4,#T_cf2ba3a2_c57f_11eb_9b6a_0242ac1c0002row4_col3{\n",
              "            background-color:  #015a50;\n",
              "            color:  #f1f1f1;\n",
              "        }#T_cf2ba3a2_c57f_11eb_9b6a_0242ac1c0002row3_col5{\n",
              "            background-color:  #a96c1e;\n",
              "            color:  #000000;\n",
              "        }#T_cf2ba3a2_c57f_11eb_9b6a_0242ac1c0002row3_col6,#T_cf2ba3a2_c57f_11eb_9b6a_0242ac1c0002row6_col3{\n",
              "            background-color:  #01584f;\n",
              "            color:  #f1f1f1;\n",
              "        }#T_cf2ba3a2_c57f_11eb_9b6a_0242ac1c0002row4_col0{\n",
              "            background-color:  #754308;\n",
              "            color:  #f1f1f1;\n",
              "        }#T_cf2ba3a2_c57f_11eb_9b6a_0242ac1c0002row4_col2{\n",
              "            background-color:  #004135;\n",
              "            color:  #f1f1f1;\n",
              "        }#T_cf2ba3a2_c57f_11eb_9b6a_0242ac1c0002row4_col5{\n",
              "            background-color:  #663a07;\n",
              "            color:  #f1f1f1;\n",
              "        }#T_cf2ba3a2_c57f_11eb_9b6a_0242ac1c0002row5_col0{\n",
              "            background-color:  #c08430;\n",
              "            color:  #000000;\n",
              "        }#T_cf2ba3a2_c57f_11eb_9b6a_0242ac1c0002row5_col1{\n",
              "            background-color:  #ebd6a2;\n",
              "            color:  #000000;\n",
              "        }#T_cf2ba3a2_c57f_11eb_9b6a_0242ac1c0002row5_col2{\n",
              "            background-color:  #a3671a;\n",
              "            color:  #000000;\n",
              "        }#T_cf2ba3a2_c57f_11eb_9b6a_0242ac1c0002row5_col3{\n",
              "            background-color:  #dbb972;\n",
              "            color:  #000000;\n",
              "        }#T_cf2ba3a2_c57f_11eb_9b6a_0242ac1c0002row5_col4{\n",
              "            background-color:  #af7222;\n",
              "            color:  #000000;\n",
              "        }#T_cf2ba3a2_c57f_11eb_9b6a_0242ac1c0002row5_col6{\n",
              "            background-color:  #cd9d50;\n",
              "            color:  #000000;\n",
              "        }#T_cf2ba3a2_c57f_11eb_9b6a_0242ac1c0002row6_col0{\n",
              "            background-color:  #6e4007;\n",
              "            color:  #f1f1f1;\n",
              "        }#T_cf2ba3a2_c57f_11eb_9b6a_0242ac1c0002row6_col1{\n",
              "            background-color:  #004e44;\n",
              "            color:  #f1f1f1;\n",
              "        }#T_cf2ba3a2_c57f_11eb_9b6a_0242ac1c0002row6_col5{\n",
              "            background-color:  #8f540c;\n",
              "            color:  #f1f1f1;\n",
              "        }</style><table id=\"T_cf2ba3a2_c57f_11eb_9b6a_0242ac1c0002\" ><thead>    <tr>        <th class=\"blank level0\" ></th>        <th class=\"col_heading level0 col0\" >Age</th>        <th class=\"col_heading level0 col1\" >Tonnage</th>        <th class=\"col_heading level0 col2\" >passengers</th>        <th class=\"col_heading level0 col3\" >length</th>        <th class=\"col_heading level0 col4\" >cabins</th>        <th class=\"col_heading level0 col5\" >passenger_density</th>        <th class=\"col_heading level0 col6\" >crew</th>    </tr></thead><tbody>\n",
              "                <tr>\n",
              "                        <th id=\"T_cf2ba3a2_c57f_11eb_9b6a_0242ac1c0002level0_row0\" class=\"row_heading level0 row0\" >Age</th>\n",
              "                        <td id=\"T_cf2ba3a2_c57f_11eb_9b6a_0242ac1c0002row0_col0\" class=\"data row0 col0\" >1.000000</td>\n",
              "                        <td id=\"T_cf2ba3a2_c57f_11eb_9b6a_0242ac1c0002row0_col1\" class=\"data row0 col1\" >-0.606646</td>\n",
              "                        <td id=\"T_cf2ba3a2_c57f_11eb_9b6a_0242ac1c0002row0_col2\" class=\"data row0 col2\" >-0.515542</td>\n",
              "                        <td id=\"T_cf2ba3a2_c57f_11eb_9b6a_0242ac1c0002row0_col3\" class=\"data row0 col3\" >-0.532286</td>\n",
              "                        <td id=\"T_cf2ba3a2_c57f_11eb_9b6a_0242ac1c0002row0_col4\" class=\"data row0 col4\" >-0.510019</td>\n",
              "                        <td id=\"T_cf2ba3a2_c57f_11eb_9b6a_0242ac1c0002row0_col5\" class=\"data row0 col5\" >-0.278830</td>\n",
              "                        <td id=\"T_cf2ba3a2_c57f_11eb_9b6a_0242ac1c0002row0_col6\" class=\"data row0 col6\" >-0.530657</td>\n",
              "            </tr>\n",
              "            <tr>\n",
              "                        <th id=\"T_cf2ba3a2_c57f_11eb_9b6a_0242ac1c0002level0_row1\" class=\"row_heading level0 row1\" >Tonnage</th>\n",
              "                        <td id=\"T_cf2ba3a2_c57f_11eb_9b6a_0242ac1c0002row1_col0\" class=\"data row1 col0\" >-0.606646</td>\n",
              "                        <td id=\"T_cf2ba3a2_c57f_11eb_9b6a_0242ac1c0002row1_col1\" class=\"data row1 col1\" >1.000000</td>\n",
              "                        <td id=\"T_cf2ba3a2_c57f_11eb_9b6a_0242ac1c0002row1_col2\" class=\"data row1 col2\" >0.945061</td>\n",
              "                        <td id=\"T_cf2ba3a2_c57f_11eb_9b6a_0242ac1c0002row1_col3\" class=\"data row1 col3\" >0.922368</td>\n",
              "                        <td id=\"T_cf2ba3a2_c57f_11eb_9b6a_0242ac1c0002row1_col4\" class=\"data row1 col4\" >0.948764</td>\n",
              "                        <td id=\"T_cf2ba3a2_c57f_11eb_9b6a_0242ac1c0002row1_col5\" class=\"data row1 col5\" >-0.040846</td>\n",
              "                        <td id=\"T_cf2ba3a2_c57f_11eb_9b6a_0242ac1c0002row1_col6\" class=\"data row1 col6\" >0.927569</td>\n",
              "            </tr>\n",
              "            <tr>\n",
              "                        <th id=\"T_cf2ba3a2_c57f_11eb_9b6a_0242ac1c0002level0_row2\" class=\"row_heading level0 row2\" >passengers</th>\n",
              "                        <td id=\"T_cf2ba3a2_c57f_11eb_9b6a_0242ac1c0002row2_col0\" class=\"data row2 col0\" >-0.515542</td>\n",
              "                        <td id=\"T_cf2ba3a2_c57f_11eb_9b6a_0242ac1c0002row2_col1\" class=\"data row2 col1\" >0.945061</td>\n",
              "                        <td id=\"T_cf2ba3a2_c57f_11eb_9b6a_0242ac1c0002row2_col2\" class=\"data row2 col2\" >1.000000</td>\n",
              "                        <td id=\"T_cf2ba3a2_c57f_11eb_9b6a_0242ac1c0002row2_col3\" class=\"data row2 col3\" >0.883535</td>\n",
              "                        <td id=\"T_cf2ba3a2_c57f_11eb_9b6a_0242ac1c0002row2_col4\" class=\"data row2 col4\" >0.976341</td>\n",
              "                        <td id=\"T_cf2ba3a2_c57f_11eb_9b6a_0242ac1c0002row2_col5\" class=\"data row2 col5\" >-0.294867</td>\n",
              "                        <td id=\"T_cf2ba3a2_c57f_11eb_9b6a_0242ac1c0002row2_col6\" class=\"data row2 col6\" >0.915234</td>\n",
              "            </tr>\n",
              "            <tr>\n",
              "                        <th id=\"T_cf2ba3a2_c57f_11eb_9b6a_0242ac1c0002level0_row3\" class=\"row_heading level0 row3\" >length</th>\n",
              "                        <td id=\"T_cf2ba3a2_c57f_11eb_9b6a_0242ac1c0002row3_col0\" class=\"data row3 col0\" >-0.532286</td>\n",
              "                        <td id=\"T_cf2ba3a2_c57f_11eb_9b6a_0242ac1c0002row3_col1\" class=\"data row3 col1\" >0.922368</td>\n",
              "                        <td id=\"T_cf2ba3a2_c57f_11eb_9b6a_0242ac1c0002row3_col2\" class=\"data row3 col2\" >0.883535</td>\n",
              "                        <td id=\"T_cf2ba3a2_c57f_11eb_9b6a_0242ac1c0002row3_col3\" class=\"data row3 col3\" >1.000000</td>\n",
              "                        <td id=\"T_cf2ba3a2_c57f_11eb_9b6a_0242ac1c0002row3_col4\" class=\"data row3 col4\" >0.889798</td>\n",
              "                        <td id=\"T_cf2ba3a2_c57f_11eb_9b6a_0242ac1c0002row3_col5\" class=\"data row3 col5\" >-0.090488</td>\n",
              "                        <td id=\"T_cf2ba3a2_c57f_11eb_9b6a_0242ac1c0002row3_col6\" class=\"data row3 col6\" >0.895857</td>\n",
              "            </tr>\n",
              "            <tr>\n",
              "                        <th id=\"T_cf2ba3a2_c57f_11eb_9b6a_0242ac1c0002level0_row4\" class=\"row_heading level0 row4\" >cabins</th>\n",
              "                        <td id=\"T_cf2ba3a2_c57f_11eb_9b6a_0242ac1c0002row4_col0\" class=\"data row4 col0\" >-0.510019</td>\n",
              "                        <td id=\"T_cf2ba3a2_c57f_11eb_9b6a_0242ac1c0002row4_col1\" class=\"data row4 col1\" >0.948764</td>\n",
              "                        <td id=\"T_cf2ba3a2_c57f_11eb_9b6a_0242ac1c0002row4_col2\" class=\"data row4 col2\" >0.976341</td>\n",
              "                        <td id=\"T_cf2ba3a2_c57f_11eb_9b6a_0242ac1c0002row4_col3\" class=\"data row4 col3\" >0.889798</td>\n",
              "                        <td id=\"T_cf2ba3a2_c57f_11eb_9b6a_0242ac1c0002row4_col4\" class=\"data row4 col4\" >1.000000</td>\n",
              "                        <td id=\"T_cf2ba3a2_c57f_11eb_9b6a_0242ac1c0002row4_col5\" class=\"data row4 col5\" >-0.253181</td>\n",
              "                        <td id=\"T_cf2ba3a2_c57f_11eb_9b6a_0242ac1c0002row4_col6\" class=\"data row4 col6\" >0.950823</td>\n",
              "            </tr>\n",
              "            <tr>\n",
              "                        <th id=\"T_cf2ba3a2_c57f_11eb_9b6a_0242ac1c0002level0_row5\" class=\"row_heading level0 row5\" >passenger_density</th>\n",
              "                        <td id=\"T_cf2ba3a2_c57f_11eb_9b6a_0242ac1c0002row5_col0\" class=\"data row5 col0\" >-0.278830</td>\n",
              "                        <td id=\"T_cf2ba3a2_c57f_11eb_9b6a_0242ac1c0002row5_col1\" class=\"data row5 col1\" >-0.040846</td>\n",
              "                        <td id=\"T_cf2ba3a2_c57f_11eb_9b6a_0242ac1c0002row5_col2\" class=\"data row5 col2\" >-0.294867</td>\n",
              "                        <td id=\"T_cf2ba3a2_c57f_11eb_9b6a_0242ac1c0002row5_col3\" class=\"data row5 col3\" >-0.090488</td>\n",
              "                        <td id=\"T_cf2ba3a2_c57f_11eb_9b6a_0242ac1c0002row5_col4\" class=\"data row5 col4\" >-0.253181</td>\n",
              "                        <td id=\"T_cf2ba3a2_c57f_11eb_9b6a_0242ac1c0002row5_col5\" class=\"data row5 col5\" >1.000000</td>\n",
              "                        <td id=\"T_cf2ba3a2_c57f_11eb_9b6a_0242ac1c0002row5_col6\" class=\"data row5 col6\" >-0.155509</td>\n",
              "            </tr>\n",
              "            <tr>\n",
              "                        <th id=\"T_cf2ba3a2_c57f_11eb_9b6a_0242ac1c0002level0_row6\" class=\"row_heading level0 row6\" >crew</th>\n",
              "                        <td id=\"T_cf2ba3a2_c57f_11eb_9b6a_0242ac1c0002row6_col0\" class=\"data row6 col0\" >-0.530657</td>\n",
              "                        <td id=\"T_cf2ba3a2_c57f_11eb_9b6a_0242ac1c0002row6_col1\" class=\"data row6 col1\" >0.927569</td>\n",
              "                        <td id=\"T_cf2ba3a2_c57f_11eb_9b6a_0242ac1c0002row6_col2\" class=\"data row6 col2\" >0.915234</td>\n",
              "                        <td id=\"T_cf2ba3a2_c57f_11eb_9b6a_0242ac1c0002row6_col3\" class=\"data row6 col3\" >0.895857</td>\n",
              "                        <td id=\"T_cf2ba3a2_c57f_11eb_9b6a_0242ac1c0002row6_col4\" class=\"data row6 col4\" >0.950823</td>\n",
              "                        <td id=\"T_cf2ba3a2_c57f_11eb_9b6a_0242ac1c0002row6_col5\" class=\"data row6 col5\" >-0.155509</td>\n",
              "                        <td id=\"T_cf2ba3a2_c57f_11eb_9b6a_0242ac1c0002row6_col6\" class=\"data row6 col6\" >1.000000</td>\n",
              "            </tr>\n",
              "    </tbody></table>"
            ],
            "text/plain": [
              "<pandas.io.formats.style.Styler at 0x7fc7da624090>"
            ]
          },
          "metadata": {
            "tags": []
          },
          "execution_count": 7
        }
      ]
    },
    {
      "cell_type": "markdown",
      "metadata": {
        "id": "lLHAzT_5oEcQ"
      },
      "source": [
        "passenger_density is the variable with the lowest correlation towards target variable crew size, as well as to other variables. Hence, it is the most noisy variable. It could be a candidate for removal in modeling below."
      ]
    },
    {
      "cell_type": "code",
      "metadata": {
        "id": "TuzPVycCm2HZ",
        "colab": {
          "base_uri": "https://localhost:8080/",
          "height": 817
        },
        "outputId": "066dafcf-1d16-43ea-c349-b183cfb20a13"
      },
      "source": [
        "fig = px.scatter_matrix(data,\n",
        "    dimensions=numerical,\n",
        "    color=\"crew\",\n",
        "    height=800\n",
        ")\n",
        "fig.show()"
      ],
      "execution_count": null,
      "outputs": [
        {
          "output_type": "display_data",
          "data": {
            "text/html": [
              "<html>\n",
              "<head><meta charset=\"utf-8\" /></head>\n",
              "<body>\n",
              "    <div>\n",
              "            <script src=\"https://cdnjs.cloudflare.com/ajax/libs/mathjax/2.7.5/MathJax.js?config=TeX-AMS-MML_SVG\"></script><script type=\"text/javascript\">if (window.MathJax) {MathJax.Hub.Config({SVG: {font: \"STIX-Web\"}});}</script>\n",
              "                <script type=\"text/javascript\">window.PlotlyConfig = {MathJaxConfig: 'local'};</script>\n",
              "        <script src=\"https://cdn.plot.ly/plotly-latest.min.js\"></script>    \n",
              "            <div id=\"cf0c7304-076c-4f2b-8b7a-941203f3096e\" class=\"plotly-graph-div\" style=\"height:800px; width:100%;\"></div>\n",
              "            <script type=\"text/javascript\">\n",
              "                \n",
              "                    window.PLOTLYENV=window.PLOTLYENV || {};\n",
              "                    \n",
              "                if (document.getElementById(\"cf0c7304-076c-4f2b-8b7a-941203f3096e\")) {\n",
              "                    Plotly.newPlot(\n",
              "                        'cf0c7304-076c-4f2b-8b7a-941203f3096e',\n",
              "                        [{\"dimensions\": [{\"axis\": {\"matches\": true}, \"label\": \"Age\", \"values\": [6, 6, 26, 11, 17, 22, 15, 23, 19, 6, 10, 28, 18, 17, 11, 8, 9, 15, 12, 20, 12, 14, 9, 13, 18, 11, 17, 12, 16, 13, 5, 12, 12, 21, 21, 13, 22, 27, 10, 9, 23, 10, 20, 6, 17, 10, 18, 44, 10, 6, 15, 14, 13, 5, 20, 29, 10, 25, 16, 19, 20, 17, 14, 27, 13, 11, 12, 5, 10, 31, 7, 9, 36, 11, 25, 11, 21, 6, 8, 21, 14, 9, 25, 15, 40, 12, 20, 15, 13, 15, 48, 9, 29, 13, 10, 18, 5, 9, 11, 7, 16, 9, 6, 12, 15, 10, 14, 22, 29, 9, 8, 11, 18, 14, 27, 12, 14, 16, 10, 12, 11, 23, 16, 13, 7, 17, 5, 9, 18, 6, 21, 10, 22, 11, 4, 12, 16, 10, 25, 17, 15, 14, 21, 27, 24, 19, 13, 12, 19, 22, 21, 12, 24, 22, 14, 25, 27, 23]}, {\"axis\": {\"matches\": true}, \"label\": \"Tonnage\", \"values\": [30.277, 30.277, 47.262, 110.0, 101.353, 70.367, 70.367, 70.367, 70.367, 110.239, 110.0, 46.052, 70.367, 70.367, 86.0, 110.0, 88.5, 70.367, 88.5, 70.367, 88.5, 101.509, 110.0, 101.509, 70.60600000000002, 91.0, 77.71300000000002, 91.0, 77.71300000000002, 91.0, 122.0, 91.0, 2.329, 47.225, 28.43, 85.619, 52.926, 53.872, 105.0, 105.0, 25.0, 86.0, 53.049, 112.0, 75.166, 68.0, 51.004, 70.327, 151.4, 90.0, 83.338, 83.0, 61.0, 86.0, 55.451, 33.92, 81.76899999999998, 38.0, 59.652, 55.451, 55.451, 55.451, 63.0, 53.872, 63.0, 85.0, 58.6, 133.5, 58.825, 35.143, 89.6, 59.058, 16.852, 58.6, 34.25, 90.0, 50.76, 93.0, 91.0, 38.0, 77.104, 81.0, 42.0, 75.33800000000002, 28.0, 77.104, 50.76, 30.277, 30.277, 30.277, 22.08, 85.0, 45.0, 76.0, 77.0, 69.153, 115.0, 116.0, 91.627, 116.0, 77.499, 113.0, 113.0, 108.865, 108.806, 91.627, 30.277, 69.845, 44.348, 113.0, 77.499, 108.977, 77.499, 30.277, 12.5, 50.0, 33.0, 19.2, 46.0, 138.0, 90.09, 48.563, 74.137, 138.0, 158.0, 74.137, 160.0, 90.09, 70.0, 158.0, 73.941, 138.0, 73.941, 138.0, 220.0, 90.09, 78.491, 90.09, 73.192, 70.0, 78.491, 138.0, 10.0, 10.0, 10.0, 16.8, 25.0, 25.0, 16.8, 3.341, 19.093, 42.0, 40.053, 3.341, 76.8, 5.35, 5.35, 14.745]}, {\"axis\": {\"matches\": true}, \"label\": \"passengers\", \"values\": [6.94, 6.94, 14.86, 29.74, 26.42, 20.52, 20.52, 20.56, 20.52, 37.0, 29.74, 14.52, 20.52, 20.52, 21.24, 29.74, 21.24, 20.52, 21.24, 20.52, 21.24, 27.58, 29.74, 27.58, 17.7, 20.32, 18.9, 20.32, 18.82, 20.32, 28.5, 20.32, 0.94, 13.66, 8.08, 21.14, 13.02, 14.94, 27.2, 27.2, 7.76, 21.14, 13.44, 38.0, 19.28, 10.8, 9.4, 17.91, 26.2, 20.0, 17.5, 17.5, 13.8, 21.04, 12.64, 12.14, 18.48, 7.49, 13.2, 12.66, 12.66, 12.66, 14.4, 14.94, 14.4, 18.48, 15.66, 39.59, 15.6, 12.5, 25.5, 17.0, 9.52, 15.66, 10.52, 22.4, 17.48, 23.94, 22.44, 10.56, 20.02, 21.44, 15.04, 19.56, 11.5, 20.02, 17.48, 6.84, 6.84, 6.84, 8.26, 19.68, 11.78, 18.74, 20.16, 18.82, 35.74, 26.0, 19.74, 31.0, 19.5, 26.74, 37.82, 27.58, 26.0, 19.74, 6.86, 15.9, 12.0, 26.74, 19.5, 26.02, 19.5, 6.88, 3.94, 7.0, 4.9, 3.2, 7.0, 31.14, 25.01, 20.2, 19.5, 31.14, 43.7, 19.5, 36.34, 25.01, 18.0, 43.7, 27.44, 31.14, 27.44, 31.14, 54.0, 25.01, 24.35, 25.01, 28.52, 20.76, 24.35, 31.14, 2.08, 2.08, 2.08, 2.96, 3.82, 3.88, 2.96, 0.66, 8.0, 14.8, 12.87, 0.66, 19.6, 1.58, 1.67, 3.08]}, {\"axis\": {\"matches\": true}, \"label\": \"length\", \"values\": [5.94, 5.94, 7.22, 9.53, 8.92, 8.55, 8.55, 8.55, 8.55, 9.51, 9.51, 7.27, 8.55, 8.55, 9.63, 9.51, 9.63, 8.55, 9.63, 8.55, 9.63, 8.93, 9.52, 8.93, 8.15, 9.65, 8.66, 9.65, 8.66, 9.65, 10.33, 9.65, 2.96, 6.82, 6.16, 9.57, 7.18, 7.98, 8.9, 8.9, 6.22, 9.6, 7.22, 9.51, 8.28, 7.9, 7.81, 9.63, 11.32, 9.64, 9.64, 9.64, 7.8, 9.36, 7.19, 7.04, 9.59, 6.74, 7.77, 7.19, 7.19, 7.19, 7.77, 7.98, 7.77, 9.51, 8.24, 10.93, 8.23, 6.69, 9.61, 7.63, 5.41, 8.23, 6.15, 9.65, 7.54, 9.65, 9.65, 5.67, 8.53, 9.21, 7.08, 8.79, 6.74, 8.53, 7.54, 5.94, 5.94, 5.94, 5.78, 9.35, 7.54, 8.86, 8.56, 8.53, 9.0, 9.51, 9.64, 9.51, 8.56, 9.51, 9.51, 9.51, 9.51, 9.64, 5.93, 8.03, 7.54, 9.51, 8.56, 9.51, 8.56, 5.93, 4.36, 7.09, 5.6, 5.13, 6.7, 10.2, 9.62, 6.92, 9.16, 10.2, 11.12, 9.16, 11.12, 9.62, 8.67, 11.25, 8.8, 10.2, 8.8, 10.2, 11.82, 9.62, 9.15, 9.62, 8.8, 8.67, 9.15, 10.2, 4.4, 4.4, 4.4, 5.14, 5.97, 5.97, 5.14, 2.8, 5.37, 7.13, 5.79, 2.79, 8.79, 4.4, 4.4, 6.17]}, {\"axis\": {\"matches\": true}, \"label\": \"cabins\", \"values\": [3.55, 3.55, 7.43, 14.88, 13.21, 10.2, 10.2, 10.22, 10.2, 14.87, 14.87, 7.26, 10.2, 10.2, 10.62, 14.87, 10.62, 10.2, 11.62, 10.2, 10.56, 13.21, 14.87, 13.79, 8.75, 9.75, 9.35, 9.75, 9.35, 9.75, 6.87, 9.75, 0.45, 6.87, 4.1, 10.56, 6.54, 7.67, 13.56, 13.56, 3.86, 10.56, 6.78, 15.0, 9.64, 5.5, 4.8, 9.5, 11.34, 10.29, 8.75, 8.75, 6.88, 10.22, 6.32, 6.07, 9.24, 3.96, 6.6, 6.33, 6.33, 6.33, 7.2, 7.47, 7.2, 9.24, 7.83, 16.37, 7.65, 5.32, 12.75, 8.5, 3.83, 7.83, 5.26, 11.2, 8.74, 11.97, 11.22, 5.28, 10.01, 10.72, 7.52, 9.83, 4.0, 10.01, 8.74, 3.42, 3.42, 3.42, 4.25, 9.84, 5.3, 9.39, 9.75, 9.14, 15.32, 13.0, 9.87, 15.57, 10.5, 13.37, 15.57, 13.0, 13.0, 9.87, 3.44, 7.95, 6.0, 13.37, 9.75, 13.01, 9.75, 3.44, 0.88, 3.54, 2.45, 1.6, 1.82, 15.57, 10.5, 8.0, 9.75, 15.57, 18.0, 9.75, 18.17, 10.94, 9.0, 18.0, 11.75, 15.57, 11.77, 15.57, 27.0, 10.5, 10.0, 10.5, 11.38, 9.02, 10.0, 15.57, 1.04, 1.04, 1.04, 1.48, 1.94, 1.94, 1.48, 0.33, 4.0, 7.4, 7.76, 0.33, 9.67, 0.74, 0.74, 1.56]}, {\"axis\": {\"matches\": true}, \"label\": \"passenger_density\", \"values\": [42.64, 42.64, 31.8, 36.99, 38.36, 34.29, 34.29, 34.23, 34.29, 29.79, 36.99, 31.72, 34.29, 34.29, 40.49, 36.99, 41.67, 34.29, 41.67, 34.29, 41.67, 36.81, 36.99, 36.81, 39.89, 44.78, 41.12, 44.78, 41.29, 44.78, 34.57, 44.78, 24.78, 34.57, 35.19, 40.5, 40.65, 36.06, 38.6, 38.6, 32.22, 40.68, 39.47, 29.47, 38.99, 62.96, 54.26, 39.27, 57.79, 45.0, 47.62, 47.43, 44.2, 40.87, 43.87, 27.94, 44.25, 50.73, 45.19, 43.8, 43.8, 43.8, 43.75, 36.06, 43.75, 46.0, 37.42, 33.72, 37.71, 28.11, 35.14, 34.74, 17.7, 37.42, 32.56, 40.18, 29.04, 38.85, 40.55, 35.98, 38.51, 37.78, 27.93, 38.52, 24.35, 38.51, 29.04, 44.26, 44.26, 44.26, 26.73, 43.19, 38.2, 40.55, 38.19, 36.74, 32.18, 44.62, 46.42, 37.42, 39.74, 42.26, 29.88, 39.47, 41.85, 46.42, 44.14, 43.93, 36.96, 42.26, 39.74, 41.88, 39.74, 44.01, 31.73, 71.43, 67.35, 60.0, 65.71, 44.32, 36.02, 24.04, 38.02, 44.32, 36.16, 38.02, 44.03, 36.02, 38.89, 36.16, 26.95, 44.32, 30.94, 44.32, 40.74, 36.02, 32.23, 36.02, 25.66, 33.72, 32.23, 44.32, 48.08, 48.08, 48.08, 56.76, 65.45, 64.43, 56.76, 50.62, 23.87, 28.38, 31.12, 50.62, 39.18, 33.86, 32.04, 47.87]}, {\"axis\": {\"matches\": true}, \"label\": \"crew\", \"values\": [3.55, 3.55, 6.7, 19.1, 10.0, 9.2, 9.2, 9.2, 9.2, 11.5, 11.6, 6.6, 9.2, 9.2, 9.3, 11.6, 10.3, 9.2, 9.3, 9.2, 10.29, 10.0, 11.6, 11.5, 8.58, 9.99, 9.09, 9.99, 9.09, 9.99, 6.7, 9.99, 0.6, 6.7, 4.0, 9.2, 6.17, 6.36, 10.68, 10.68, 3.85, 9.2, 6.0, 10.9, 7.66, 6.36, 5.45, 9.21, 12.53, 9.0, 9.45, 9.45, 6.0, 8.0, 5.57, 5.3, 8.42, 4.6, 6.44, 5.88, 5.88, 5.88, 5.61, 6.12, 5.31, 8.0, 7.0, 13.13, 7.0, 5.35, 9.87, 7.4, 2.97, 7.6, 4.7, 11.0, 6.14, 11.09, 11.0, 4.38, 8.0, 10.0, 6.3, 13.0, 3.8, 9.59, 6.14, 4.0, 4.0, 4.0, 3.5, 8.69, 5.2, 8.5, 9.0, 7.94, 12.2, 11.0, 9.0, 12.0, 9.0, 12.38, 12.0, 11.0, 11.1, 9.0, 3.73, 6.96, 5.2, 12.38, 9.0, 12.0, 9.0, 3.73, 1.46, 4.45, 3.24, 2.11, 4.47, 11.85, 8.48, 6.71, 7.6, 11.76, 13.6, 7.6, 13.6, 8.69, 7.2, 13.6, 8.22, 11.85, 8.22, 11.85, 21.0, 8.68, 7.65, 8.58, 8.08, 7.2, 6.6, 11.76, 1.6, 1.6, 1.6, 2.1, 2.95, 2.87, 1.97, 0.59, 4.7, 6.8, 7.5, 0.59, 12.0, 0.88, 0.88, 1.8]}], \"hoverlabel\": {\"namelength\": 0}, \"hovertemplate\": \"%{xaxis.title.text}=%{x}<br>%{yaxis.title.text}=%{y}<br>crew=%{marker.color}\", \"legendgroup\": \"\", \"marker\": {\"color\": [3.55, 3.55, 6.7, 19.1, 10.0, 9.2, 9.2, 9.2, 9.2, 11.5, 11.6, 6.6, 9.2, 9.2, 9.3, 11.6, 10.3, 9.2, 9.3, 9.2, 10.29, 10.0, 11.6, 11.5, 8.58, 9.99, 9.09, 9.99, 9.09, 9.99, 6.7, 9.99, 0.6, 6.7, 4.0, 9.2, 6.17, 6.36, 10.68, 10.68, 3.85, 9.2, 6.0, 10.9, 7.66, 6.36, 5.45, 9.21, 12.53, 9.0, 9.45, 9.45, 6.0, 8.0, 5.57, 5.3, 8.42, 4.6, 6.44, 5.88, 5.88, 5.88, 5.61, 6.12, 5.31, 8.0, 7.0, 13.13, 7.0, 5.35, 9.87, 7.4, 2.97, 7.6, 4.7, 11.0, 6.14, 11.09, 11.0, 4.38, 8.0, 10.0, 6.3, 13.0, 3.8, 9.59, 6.14, 4.0, 4.0, 4.0, 3.5, 8.69, 5.2, 8.5, 9.0, 7.94, 12.2, 11.0, 9.0, 12.0, 9.0, 12.38, 12.0, 11.0, 11.1, 9.0, 3.73, 6.96, 5.2, 12.38, 9.0, 12.0, 9.0, 3.73, 1.46, 4.45, 3.24, 2.11, 4.47, 11.85, 8.48, 6.71, 7.6, 11.76, 13.6, 7.6, 13.6, 8.69, 7.2, 13.6, 8.22, 11.85, 8.22, 11.85, 21.0, 8.68, 7.65, 8.58, 8.08, 7.2, 6.6, 11.76, 1.6, 1.6, 1.6, 2.1, 2.95, 2.87, 1.97, 0.59, 4.7, 6.8, 7.5, 0.59, 12.0, 0.88, 0.88, 1.8], \"coloraxis\": \"coloraxis\", \"symbol\": \"circle\"}, \"name\": \"\", \"showlegend\": false, \"type\": \"splom\"}],\n",
              "                        {\"coloraxis\": {\"colorbar\": {\"title\": {\"text\": \"crew\"}}, \"colorscale\": [[0.0, \"#0d0887\"], [0.1111111111111111, \"#46039f\"], [0.2222222222222222, \"#7201a8\"], [0.3333333333333333, \"#9c179e\"], [0.4444444444444444, \"#bd3786\"], [0.5555555555555556, \"#d8576b\"], [0.6666666666666666, \"#ed7953\"], [0.7777777777777778, \"#fb9f3a\"], [0.8888888888888888, \"#fdca26\"], [1.0, \"#f0f921\"]]}, \"dragmode\": \"select\", \"height\": 800, \"legend\": {\"tracegroupgap\": 0}, \"margin\": {\"t\": 60}, \"template\": {\"data\": {\"bar\": [{\"error_x\": {\"color\": \"#2a3f5f\"}, \"error_y\": {\"color\": \"#2a3f5f\"}, \"marker\": {\"line\": {\"color\": \"#E5ECF6\", \"width\": 0.5}}, \"type\": \"bar\"}], \"barpolar\": [{\"marker\": {\"line\": {\"color\": \"#E5ECF6\", \"width\": 0.5}}, \"type\": \"barpolar\"}], \"carpet\": [{\"aaxis\": {\"endlinecolor\": \"#2a3f5f\", \"gridcolor\": \"white\", \"linecolor\": \"white\", \"minorgridcolor\": \"white\", \"startlinecolor\": \"#2a3f5f\"}, \"baxis\": {\"endlinecolor\": \"#2a3f5f\", \"gridcolor\": \"white\", \"linecolor\": \"white\", \"minorgridcolor\": \"white\", \"startlinecolor\": \"#2a3f5f\"}, \"type\": \"carpet\"}], \"choropleth\": [{\"colorbar\": {\"outlinewidth\": 0, \"ticks\": \"\"}, \"type\": \"choropleth\"}], \"contour\": [{\"colorbar\": {\"outlinewidth\": 0, \"ticks\": \"\"}, \"colorscale\": [[0.0, \"#0d0887\"], [0.1111111111111111, \"#46039f\"], [0.2222222222222222, \"#7201a8\"], [0.3333333333333333, \"#9c179e\"], [0.4444444444444444, \"#bd3786\"], [0.5555555555555556, \"#d8576b\"], [0.6666666666666666, \"#ed7953\"], [0.7777777777777778, \"#fb9f3a\"], [0.8888888888888888, \"#fdca26\"], [1.0, \"#f0f921\"]], \"type\": \"contour\"}], \"contourcarpet\": [{\"colorbar\": {\"outlinewidth\": 0, \"ticks\": \"\"}, \"type\": \"contourcarpet\"}], \"heatmap\": [{\"colorbar\": {\"outlinewidth\": 0, \"ticks\": \"\"}, \"colorscale\": [[0.0, \"#0d0887\"], [0.1111111111111111, \"#46039f\"], [0.2222222222222222, \"#7201a8\"], [0.3333333333333333, \"#9c179e\"], [0.4444444444444444, \"#bd3786\"], [0.5555555555555556, \"#d8576b\"], [0.6666666666666666, \"#ed7953\"], [0.7777777777777778, \"#fb9f3a\"], [0.8888888888888888, \"#fdca26\"], [1.0, \"#f0f921\"]], \"type\": \"heatmap\"}], \"heatmapgl\": [{\"colorbar\": {\"outlinewidth\": 0, \"ticks\": \"\"}, \"colorscale\": [[0.0, \"#0d0887\"], [0.1111111111111111, \"#46039f\"], [0.2222222222222222, \"#7201a8\"], [0.3333333333333333, \"#9c179e\"], [0.4444444444444444, \"#bd3786\"], [0.5555555555555556, \"#d8576b\"], [0.6666666666666666, \"#ed7953\"], [0.7777777777777778, \"#fb9f3a\"], [0.8888888888888888, \"#fdca26\"], [1.0, \"#f0f921\"]], \"type\": \"heatmapgl\"}], \"histogram\": [{\"marker\": {\"colorbar\": {\"outlinewidth\": 0, \"ticks\": \"\"}}, \"type\": \"histogram\"}], \"histogram2d\": [{\"colorbar\": {\"outlinewidth\": 0, \"ticks\": \"\"}, \"colorscale\": [[0.0, \"#0d0887\"], [0.1111111111111111, \"#46039f\"], [0.2222222222222222, \"#7201a8\"], [0.3333333333333333, \"#9c179e\"], [0.4444444444444444, \"#bd3786\"], [0.5555555555555556, \"#d8576b\"], [0.6666666666666666, \"#ed7953\"], [0.7777777777777778, \"#fb9f3a\"], [0.8888888888888888, \"#fdca26\"], [1.0, \"#f0f921\"]], \"type\": \"histogram2d\"}], \"histogram2dcontour\": [{\"colorbar\": {\"outlinewidth\": 0, \"ticks\": \"\"}, \"colorscale\": [[0.0, \"#0d0887\"], [0.1111111111111111, \"#46039f\"], [0.2222222222222222, \"#7201a8\"], [0.3333333333333333, \"#9c179e\"], [0.4444444444444444, \"#bd3786\"], [0.5555555555555556, \"#d8576b\"], [0.6666666666666666, \"#ed7953\"], [0.7777777777777778, \"#fb9f3a\"], [0.8888888888888888, \"#fdca26\"], [1.0, \"#f0f921\"]], \"type\": \"histogram2dcontour\"}], \"mesh3d\": [{\"colorbar\": {\"outlinewidth\": 0, \"ticks\": \"\"}, \"type\": \"mesh3d\"}], \"parcoords\": [{\"line\": {\"colorbar\": {\"outlinewidth\": 0, \"ticks\": \"\"}}, \"type\": \"parcoords\"}], \"pie\": [{\"automargin\": true, \"type\": \"pie\"}], \"scatter\": [{\"marker\": {\"colorbar\": {\"outlinewidth\": 0, \"ticks\": \"\"}}, \"type\": \"scatter\"}], \"scatter3d\": [{\"line\": {\"colorbar\": {\"outlinewidth\": 0, \"ticks\": \"\"}}, \"marker\": {\"colorbar\": {\"outlinewidth\": 0, \"ticks\": \"\"}}, \"type\": \"scatter3d\"}], \"scattercarpet\": [{\"marker\": {\"colorbar\": {\"outlinewidth\": 0, \"ticks\": \"\"}}, \"type\": \"scattercarpet\"}], \"scattergeo\": [{\"marker\": {\"colorbar\": {\"outlinewidth\": 0, \"ticks\": \"\"}}, \"type\": \"scattergeo\"}], \"scattergl\": [{\"marker\": {\"colorbar\": {\"outlinewidth\": 0, \"ticks\": \"\"}}, \"type\": \"scattergl\"}], \"scattermapbox\": [{\"marker\": {\"colorbar\": {\"outlinewidth\": 0, \"ticks\": \"\"}}, \"type\": \"scattermapbox\"}], \"scatterpolar\": [{\"marker\": {\"colorbar\": {\"outlinewidth\": 0, \"ticks\": \"\"}}, \"type\": \"scatterpolar\"}], \"scatterpolargl\": [{\"marker\": {\"colorbar\": {\"outlinewidth\": 0, \"ticks\": \"\"}}, \"type\": \"scatterpolargl\"}], \"scatterternary\": [{\"marker\": {\"colorbar\": {\"outlinewidth\": 0, \"ticks\": \"\"}}, \"type\": \"scatterternary\"}], \"surface\": [{\"colorbar\": {\"outlinewidth\": 0, \"ticks\": \"\"}, \"colorscale\": [[0.0, \"#0d0887\"], [0.1111111111111111, \"#46039f\"], [0.2222222222222222, \"#7201a8\"], [0.3333333333333333, \"#9c179e\"], [0.4444444444444444, \"#bd3786\"], [0.5555555555555556, \"#d8576b\"], [0.6666666666666666, \"#ed7953\"], [0.7777777777777778, \"#fb9f3a\"], [0.8888888888888888, \"#fdca26\"], [1.0, \"#f0f921\"]], \"type\": \"surface\"}], \"table\": [{\"cells\": {\"fill\": {\"color\": \"#EBF0F8\"}, \"line\": {\"color\": \"white\"}}, \"header\": {\"fill\": {\"color\": \"#C8D4E3\"}, \"line\": {\"color\": \"white\"}}, \"type\": \"table\"}]}, \"layout\": {\"annotationdefaults\": {\"arrowcolor\": \"#2a3f5f\", \"arrowhead\": 0, \"arrowwidth\": 1}, \"coloraxis\": {\"colorbar\": {\"outlinewidth\": 0, \"ticks\": \"\"}}, \"colorscale\": {\"diverging\": [[0, \"#8e0152\"], [0.1, \"#c51b7d\"], [0.2, \"#de77ae\"], [0.3, \"#f1b6da\"], [0.4, \"#fde0ef\"], [0.5, \"#f7f7f7\"], [0.6, \"#e6f5d0\"], [0.7, \"#b8e186\"], [0.8, \"#7fbc41\"], [0.9, \"#4d9221\"], [1, \"#276419\"]], \"sequential\": [[0.0, \"#0d0887\"], [0.1111111111111111, \"#46039f\"], [0.2222222222222222, \"#7201a8\"], [0.3333333333333333, \"#9c179e\"], [0.4444444444444444, \"#bd3786\"], [0.5555555555555556, \"#d8576b\"], [0.6666666666666666, \"#ed7953\"], [0.7777777777777778, \"#fb9f3a\"], [0.8888888888888888, \"#fdca26\"], [1.0, \"#f0f921\"]], \"sequentialminus\": [[0.0, \"#0d0887\"], [0.1111111111111111, \"#46039f\"], [0.2222222222222222, \"#7201a8\"], [0.3333333333333333, \"#9c179e\"], [0.4444444444444444, \"#bd3786\"], [0.5555555555555556, \"#d8576b\"], [0.6666666666666666, \"#ed7953\"], [0.7777777777777778, \"#fb9f3a\"], [0.8888888888888888, \"#fdca26\"], [1.0, \"#f0f921\"]]}, \"colorway\": [\"#636efa\", \"#EF553B\", \"#00cc96\", \"#ab63fa\", \"#FFA15A\", \"#19d3f3\", \"#FF6692\", \"#B6E880\", \"#FF97FF\", \"#FECB52\"], \"font\": {\"color\": \"#2a3f5f\"}, \"geo\": {\"bgcolor\": \"white\", \"lakecolor\": \"white\", \"landcolor\": \"#E5ECF6\", \"showlakes\": true, \"showland\": true, \"subunitcolor\": \"white\"}, \"hoverlabel\": {\"align\": \"left\"}, \"hovermode\": \"closest\", \"mapbox\": {\"style\": \"light\"}, \"paper_bgcolor\": \"white\", \"plot_bgcolor\": \"#E5ECF6\", \"polar\": {\"angularaxis\": {\"gridcolor\": \"white\", \"linecolor\": \"white\", \"ticks\": \"\"}, \"bgcolor\": \"#E5ECF6\", \"radialaxis\": {\"gridcolor\": \"white\", \"linecolor\": \"white\", \"ticks\": \"\"}}, \"scene\": {\"xaxis\": {\"backgroundcolor\": \"#E5ECF6\", \"gridcolor\": \"white\", \"gridwidth\": 2, \"linecolor\": \"white\", \"showbackground\": true, \"ticks\": \"\", \"zerolinecolor\": \"white\"}, \"yaxis\": {\"backgroundcolor\": \"#E5ECF6\", \"gridcolor\": \"white\", \"gridwidth\": 2, \"linecolor\": \"white\", \"showbackground\": true, \"ticks\": \"\", \"zerolinecolor\": \"white\"}, \"zaxis\": {\"backgroundcolor\": \"#E5ECF6\", \"gridcolor\": \"white\", \"gridwidth\": 2, \"linecolor\": \"white\", \"showbackground\": true, \"ticks\": \"\", \"zerolinecolor\": \"white\"}}, \"shapedefaults\": {\"line\": {\"color\": \"#2a3f5f\"}}, \"ternary\": {\"aaxis\": {\"gridcolor\": \"white\", \"linecolor\": \"white\", \"ticks\": \"\"}, \"baxis\": {\"gridcolor\": \"white\", \"linecolor\": \"white\", \"ticks\": \"\"}, \"bgcolor\": \"#E5ECF6\", \"caxis\": {\"gridcolor\": \"white\", \"linecolor\": \"white\", \"ticks\": \"\"}}, \"title\": {\"x\": 0.05}, \"xaxis\": {\"automargin\": true, \"gridcolor\": \"white\", \"linecolor\": \"white\", \"ticks\": \"\", \"title\": {\"standoff\": 15}, \"zerolinecolor\": \"white\", \"zerolinewidth\": 2}, \"yaxis\": {\"automargin\": true, \"gridcolor\": \"white\", \"linecolor\": \"white\", \"ticks\": \"\", \"title\": {\"standoff\": 15}, \"zerolinecolor\": \"white\", \"zerolinewidth\": 2}}}},\n",
              "                        {\"responsive\": true}\n",
              "                    ).then(function(){\n",
              "                            \n",
              "var gd = document.getElementById('cf0c7304-076c-4f2b-8b7a-941203f3096e');\n",
              "var x = new MutationObserver(function (mutations, observer) {{\n",
              "        var display = window.getComputedStyle(gd).display;\n",
              "        if (!display || display === 'none') {{\n",
              "            console.log([gd, 'removed!']);\n",
              "            Plotly.purge(gd);\n",
              "            observer.disconnect();\n",
              "        }}\n",
              "}});\n",
              "\n",
              "// Listen for the removal of the full notebook cells\n",
              "var notebookContainer = gd.closest('#notebook-container');\n",
              "if (notebookContainer) {{\n",
              "    x.observe(notebookContainer, {childList: true});\n",
              "}}\n",
              "\n",
              "// Listen for the clearing of the current output cell\n",
              "var outputEl = gd.closest('.output');\n",
              "if (outputEl) {{\n",
              "    x.observe(outputEl, {childList: true});\n",
              "}}\n",
              "\n",
              "                        })\n",
              "                };\n",
              "                \n",
              "            </script>\n",
              "        </div>\n",
              "</body>\n",
              "</html>"
            ]
          },
          "metadata": {
            "tags": []
          }
        }
      ]
    },
    {
      "cell_type": "markdown",
      "metadata": {
        "id": "-5DjKI6am2Hl"
      },
      "source": [
        "Next looking at the variables with the strongest correlation to target variable crew size, we can see below that cabins, Tonnage, passengers, length have strong positive correlation with crew size. passenger_density has a weak negative correlation with crew size."
      ]
    },
    {
      "cell_type": "code",
      "metadata": {
        "id": "2M87LFN5m2Hm",
        "colab": {
          "base_uri": "https://localhost:8080/",
          "height": 290
        },
        "outputId": "5ed8b205-3fea-4c03-a2c0-479e6dcbf18a"
      },
      "source": [
        "print(\"Independent variable correlation with target variable crew size\")\n",
        "pd.DataFrame(corr.loc[corr.index.values != \"crew\", \"crew\"].sort_values(ascending=False))\\\n",
        "    .rename(columns={\"crew\": \"Crew size correlation\"})"
      ],
      "execution_count": null,
      "outputs": [
        {
          "output_type": "stream",
          "text": [
            "Independent variable correlation with target variable crew size\n"
          ],
          "name": "stdout"
        },
        {
          "output_type": "execute_result",
          "data": {
            "text/html": [
              "<div>\n",
              "<style scoped>\n",
              "    .dataframe tbody tr th:only-of-type {\n",
              "        vertical-align: middle;\n",
              "    }\n",
              "\n",
              "    .dataframe tbody tr th {\n",
              "        vertical-align: top;\n",
              "    }\n",
              "\n",
              "    .dataframe thead th {\n",
              "        text-align: right;\n",
              "    }\n",
              "</style>\n",
              "<table border=\"1\" class=\"dataframe\">\n",
              "  <thead>\n",
              "    <tr style=\"text-align: right;\">\n",
              "      <th></th>\n",
              "      <th>Crew size correlation</th>\n",
              "    </tr>\n",
              "  </thead>\n",
              "  <tbody>\n",
              "    <tr>\n",
              "      <th>cabins</th>\n",
              "      <td>0.950823</td>\n",
              "    </tr>\n",
              "    <tr>\n",
              "      <th>Tonnage</th>\n",
              "      <td>0.927569</td>\n",
              "    </tr>\n",
              "    <tr>\n",
              "      <th>passengers</th>\n",
              "      <td>0.915234</td>\n",
              "    </tr>\n",
              "    <tr>\n",
              "      <th>length</th>\n",
              "      <td>0.895857</td>\n",
              "    </tr>\n",
              "    <tr>\n",
              "      <th>passenger_density</th>\n",
              "      <td>-0.155509</td>\n",
              "    </tr>\n",
              "    <tr>\n",
              "      <th>Age</th>\n",
              "      <td>-0.530657</td>\n",
              "    </tr>\n",
              "  </tbody>\n",
              "</table>\n",
              "</div>"
            ],
            "text/plain": [
              "                   Crew size correlation\n",
              "cabins                          0.950823\n",
              "Tonnage                         0.927569\n",
              "passengers                      0.915234\n",
              "length                          0.895857\n",
              "passenger_density              -0.155509\n",
              "Age                            -0.530657"
            ]
          },
          "metadata": {
            "tags": []
          },
          "execution_count": 9
        }
      ]
    },
    {
      "cell_type": "markdown",
      "metadata": {
        "id": "huchEiO6m2Hr"
      },
      "source": [
        "#### Clustering analysis\n",
        "Next we perform a singular value decomposition matrix factorisation in order to cluster the data in 2 dimensions. We project the numerical variables (without target variable crew) along the two components (variable weightings) that explain most of the variance in the dataset.\n",
        "\n",
        "Then the SVD projections are clustered using K-means algorithm. We can see in the plot below that data points in latent 2D SVD space are similar also in data space (hover points to see actual data)."
      ]
    },
    {
      "cell_type": "code",
      "metadata": {
        "id": "cRNdVebRm2Hs"
      },
      "source": [
        "svd = TruncatedSVD(n_components=2, n_iter=200, random_state=42)\n",
        "svd_projections = svd.fit_transform(\n",
        "    data[numerical_independent_variables])\n",
        "\n",
        "data_clustered = data[categorical+numerical].join(\n",
        "    pd.DataFrame(svd_projections, columns=[\"svd_X\", \"svd_Y\"]))\n",
        "\n",
        "data_clustered.loc[:, \"cluster\"] =\\\n",
        "    KMeans(n_clusters=4, random_state=0).fit(data_clustered[[\"svd_X\", \"svd_Y\"]]).labels_"
      ],
      "execution_count": null,
      "outputs": []
    },
    {
      "cell_type": "markdown",
      "metadata": {
        "id": "U6MJ30xrm2Hx"
      },
      "source": [
        "We can see that the two SVD components (svd_X and svd_X) explain almost all of the variance in the independent variables over the dataset (Sum variance 0.954006)."
      ]
    },
    {
      "cell_type": "code",
      "metadata": {
        "id": "_lB0N3iXm2Hy",
        "colab": {
          "base_uri": "https://localhost:8080/",
          "height": 193
        },
        "outputId": "300ea4b0-ab8d-4bf7-ba2a-671d49c34165"
      },
      "source": [
        "pd.DataFrame(np.array(svd.explained_variance_ratio_.tolist() + [np.sum(svd.explained_variance_ratio_)]),\n",
        "             index=[\"SVD Component 1 (svd_X)\", \"SVD Component 2 (svd_Y)\", \"Sum variance\"],\n",
        "            columns=[\"Explained variance\"])"
      ],
      "execution_count": null,
      "outputs": [
        {
          "output_type": "execute_result",
          "data": {
            "text/html": [
              "<div>\n",
              "<style scoped>\n",
              "    .dataframe tbody tr th:only-of-type {\n",
              "        vertical-align: middle;\n",
              "    }\n",
              "\n",
              "    .dataframe tbody tr th {\n",
              "        vertical-align: top;\n",
              "    }\n",
              "\n",
              "    .dataframe thead th {\n",
              "        text-align: right;\n",
              "    }\n",
              "</style>\n",
              "<table border=\"1\" class=\"dataframe\">\n",
              "  <thead>\n",
              "    <tr style=\"text-align: right;\">\n",
              "      <th></th>\n",
              "      <th>Explained variance</th>\n",
              "    </tr>\n",
              "  </thead>\n",
              "  <tbody>\n",
              "    <tr>\n",
              "      <th>SVD Component 1 (svd_X)</th>\n",
              "      <td>0.714321</td>\n",
              "    </tr>\n",
              "    <tr>\n",
              "      <th>SVD Component 2 (svd_Y)</th>\n",
              "      <td>0.239685</td>\n",
              "    </tr>\n",
              "    <tr>\n",
              "      <th>Sum variance</th>\n",
              "      <td>0.954006</td>\n",
              "    </tr>\n",
              "  </tbody>\n",
              "</table>\n",
              "</div>"
            ],
            "text/plain": [
              "                         Explained variance\n",
              "SVD Component 1 (svd_X)            0.714321\n",
              "SVD Component 2 (svd_Y)            0.239685\n",
              "Sum variance                       0.954006"
            ]
          },
          "metadata": {
            "tags": []
          },
          "execution_count": 11
        }
      ]
    },
    {
      "cell_type": "markdown",
      "metadata": {
        "id": "KeTPXxPIm2H2"
      },
      "source": [
        "Below we can see the variable weights for the 2 SVD components (svd_X and svd_Y) that the data is projected on."
      ]
    },
    {
      "cell_type": "code",
      "metadata": {
        "id": "OJ3NTX3zm2H3",
        "colab": {
          "base_uri": "https://localhost:8080/",
          "height": 183
        },
        "outputId": "2e5da40f-5917-4fd2-8685-854d973056be"
      },
      "source": [
        "svd_variable_weights = pd.DataFrame(svd.components_.T,\n",
        "             index=numerical_independent_variables,\n",
        "             columns=[\"svd_X weights\", \"svd_Y weights\"]\n",
        ")\n",
        "svd_variable_weights.style.background_gradient(cmap=\"BrBG\")"
      ],
      "execution_count": null,
      "outputs": [
        {
          "output_type": "execute_result",
          "data": {
            "text/html": [
              "<style  type=\"text/css\" >\n",
              "#T_e70b39d8_c57f_11eb_9b6a_0242ac1c0002row0_col0{\n",
              "            background-color:  #774508;\n",
              "            color:  #f1f1f1;\n",
              "        }#T_e70b39d8_c57f_11eb_9b6a_0242ac1c0002row0_col1{\n",
              "            background-color:  #d8b46c;\n",
              "            color:  #000000;\n",
              "        }#T_e70b39d8_c57f_11eb_9b6a_0242ac1c0002row1_col0,#T_e70b39d8_c57f_11eb_9b6a_0242ac1c0002row1_col1{\n",
              "            background-color:  #003c30;\n",
              "            color:  #f1f1f1;\n",
              "        }#T_e70b39d8_c57f_11eb_9b6a_0242ac1c0002row2_col0{\n",
              "            background-color:  #af7222;\n",
              "            color:  #000000;\n",
              "        }#T_e70b39d8_c57f_11eb_9b6a_0242ac1c0002row2_col1{\n",
              "            background-color:  #52aca3;\n",
              "            color:  #000000;\n",
              "        }#T_e70b39d8_c57f_11eb_9b6a_0242ac1c0002row3_col0,#T_e70b39d8_c57f_11eb_9b6a_0242ac1c0002row5_col1{\n",
              "            background-color:  #543005;\n",
              "            color:  #f1f1f1;\n",
              "        }#T_e70b39d8_c57f_11eb_9b6a_0242ac1c0002row3_col1{\n",
              "            background-color:  #c1e8e2;\n",
              "            color:  #000000;\n",
              "        }#T_e70b39d8_c57f_11eb_9b6a_0242ac1c0002row4_col0{\n",
              "            background-color:  #5f3606;\n",
              "            color:  #f1f1f1;\n",
              "        }#T_e70b39d8_c57f_11eb_9b6a_0242ac1c0002row4_col1{\n",
              "            background-color:  #81cec2;\n",
              "            color:  #000000;\n",
              "        }#T_e70b39d8_c57f_11eb_9b6a_0242ac1c0002row5_col0{\n",
              "            background-color:  #f6e9c5;\n",
              "            color:  #000000;\n",
              "        }</style><table id=\"T_e70b39d8_c57f_11eb_9b6a_0242ac1c0002\" ><thead>    <tr>        <th class=\"blank level0\" ></th>        <th class=\"col_heading level0 col0\" >svd_X weights</th>        <th class=\"col_heading level0 col1\" >svd_Y weights</th>    </tr></thead><tbody>\n",
              "                <tr>\n",
              "                        <th id=\"T_e70b39d8_c57f_11eb_9b6a_0242ac1c0002level0_row0\" class=\"row_heading level0 row0\" >Age</th>\n",
              "                        <td id=\"T_e70b39d8_c57f_11eb_9b6a_0242ac1c0002row0_col0\" class=\"data row0 col0\" >0.139450</td>\n",
              "                        <td id=\"T_e70b39d8_c57f_11eb_9b6a_0242ac1c0002row0_col1\" class=\"data row0 col1\" >-0.450466</td>\n",
              "            </tr>\n",
              "            <tr>\n",
              "                        <th id=\"T_e70b39d8_c57f_11eb_9b6a_0242ac1c0002level0_row1\" class=\"row_heading level0 row1\" >Tonnage</th>\n",
              "                        <td id=\"T_e70b39d8_c57f_11eb_9b6a_0242ac1c0002row1_col0\" class=\"data row1 col0\" >0.866058</td>\n",
              "                        <td id=\"T_e70b39d8_c57f_11eb_9b6a_0242ac1c0002row1_col1\" class=\"data row1 col1\" >0.405934</td>\n",
              "            </tr>\n",
              "            <tr>\n",
              "                        <th id=\"T_e70b39d8_c57f_11eb_9b6a_0242ac1c0002level0_row2\" class=\"row_heading level0 row2\" >passengers</th>\n",
              "                        <td id=\"T_e70b39d8_c57f_11eb_9b6a_0242ac1c0002row2_col0\" class=\"data row2 col0\" >0.221644</td>\n",
              "                        <td id=\"T_e70b39d8_c57f_11eb_9b6a_0242ac1c0002row2_col1\" class=\"data row2 col1\" >0.120804</td>\n",
              "            </tr>\n",
              "            <tr>\n",
              "                        <th id=\"T_e70b39d8_c57f_11eb_9b6a_0242ac1c0002level0_row3\" class=\"row_heading level0 row3\" >length</th>\n",
              "                        <td id=\"T_e70b39d8_c57f_11eb_9b6a_0242ac1c0002row3_col0\" class=\"data row3 col0\" >0.088451</td>\n",
              "                        <td id=\"T_e70b39d8_c57f_11eb_9b6a_0242ac1c0002row3_col1\" class=\"data row3 col1\" >-0.061696</td>\n",
              "            </tr>\n",
              "            <tr>\n",
              "                        <th id=\"T_e70b39d8_c57f_11eb_9b6a_0242ac1c0002level0_row4\" class=\"row_heading level0 row4\" >cabins</th>\n",
              "                        <td id=\"T_e70b39d8_c57f_11eb_9b6a_0242ac1c0002row4_col0\" class=\"data row4 col0\" >0.105571</td>\n",
              "                        <td id=\"T_e70b39d8_c57f_11eb_9b6a_0242ac1c0002row4_col1\" class=\"data row4 col1\" >0.048212</td>\n",
              "            </tr>\n",
              "            <tr>\n",
              "                        <th id=\"T_e70b39d8_c57f_11eb_9b6a_0242ac1c0002level0_row5\" class=\"row_heading level0 row5\" >passenger_density</th>\n",
              "                        <td id=\"T_e70b39d8_c57f_11eb_9b6a_0242ac1c0002row5_col0\" class=\"data row5 col0\" >0.402993</td>\n",
              "                        <td id=\"T_e70b39d8_c57f_11eb_9b6a_0242ac1c0002row5_col1\" class=\"data row5 col1\" >-0.782032</td>\n",
              "            </tr>\n",
              "    </tbody></table>"
            ],
            "text/plain": [
              "<pandas.io.formats.style.Styler at 0x7fc7d0489d10>"
            ]
          },
          "metadata": {
            "tags": []
          },
          "execution_count": 12
        }
      ]
    },
    {
      "cell_type": "markdown",
      "metadata": {
        "id": "Np19aaRdm2H9"
      },
      "source": [
        "Data points that are similar (close) in latent SVD projected 2D space are also close in data space. Hover data points in plot below to see."
      ]
    },
    {
      "cell_type": "code",
      "metadata": {
        "id": "78UFINu2m2H-",
        "colab": {
          "base_uri": "https://localhost:8080/",
          "height": 542
        },
        "outputId": "73ac4fd4-f482-42d2-d000-c509048a8d8b"
      },
      "source": [
        "fig = px.scatter(data_clustered,\n",
        "                 x=\"svd_X\", y=\"svd_Y\",\n",
        "                hover_data=categorical+numerical,\n",
        "                size=\"crew\",\n",
        "                color=\"cluster\",\n",
        "                title=\"Numerical independent variables projected and clustered (K-Means) in SVD 2D space\")\n",
        "fig.show()"
      ],
      "execution_count": null,
      "outputs": [
        {
          "output_type": "display_data",
          "data": {
            "text/html": [
              "<html>\n",
              "<head><meta charset=\"utf-8\" /></head>\n",
              "<body>\n",
              "    <div>\n",
              "            <script src=\"https://cdnjs.cloudflare.com/ajax/libs/mathjax/2.7.5/MathJax.js?config=TeX-AMS-MML_SVG\"></script><script type=\"text/javascript\">if (window.MathJax) {MathJax.Hub.Config({SVG: {font: \"STIX-Web\"}});}</script>\n",
              "                <script type=\"text/javascript\">window.PlotlyConfig = {MathJaxConfig: 'local'};</script>\n",
              "        <script src=\"https://cdn.plot.ly/plotly-latest.min.js\"></script>    \n",
              "            <div id=\"1def3aff-e38f-4c8d-8c67-4cdf03d276f3\" class=\"plotly-graph-div\" style=\"height:525px; width:100%;\"></div>\n",
              "            <script type=\"text/javascript\">\n",
              "                \n",
              "                    window.PLOTLYENV=window.PLOTLYENV || {};\n",
              "                    \n",
              "                if (document.getElementById(\"1def3aff-e38f-4c8d-8c67-4cdf03d276f3\")) {\n",
              "                    Plotly.newPlot(\n",
              "                        '1def3aff-e38f-4c8d-8c67-4cdf03d276f3',\n",
              "                        [{\"customdata\": [[\"Journey\", \"Azamara\", 6, 30.277, 6.94, 5.94, 3.55, 42.64, 3.55], [\"Quest\", \"Azamara\", 6, 30.277, 6.94, 5.94, 3.55, 42.64, 3.55], [\"Celebration\", \"Carnival\", 26, 47.262, 14.86, 7.22, 7.43, 31.8, 6.7], [\"Conquest\", \"Carnival\", 11, 110.0, 29.74, 9.53, 14.88, 36.99, 19.1], [\"Destiny\", \"Carnival\", 17, 101.353, 26.42, 8.92, 13.21, 38.36, 10.0], [\"Ecstasy\", \"Carnival\", 22, 70.367, 20.52, 8.55, 10.2, 34.29, 9.2], [\"Elation\", \"Carnival\", 15, 70.367, 20.52, 8.55, 10.2, 34.29, 9.2], [\"Fantasy\", \"Carnival\", 23, 70.367, 20.56, 8.55, 10.22, 34.23, 9.2], [\"Fascination\", \"Carnival\", 19, 70.367, 20.52, 8.55, 10.2, 34.29, 9.2], [\"Freedom\", \"Carnival\", 6, 110.239, 37.0, 9.51, 14.87, 29.79, 11.5], [\"Glory\", \"Carnival\", 10, 110.0, 29.74, 9.51, 14.87, 36.99, 11.6], [\"Holiday\", \"Carnival\", 28, 46.052, 14.52, 7.27, 7.26, 31.72, 6.6], [\"Imagination\", \"Carnival\", 18, 70.367, 20.52, 8.55, 10.2, 34.29, 9.2], [\"Inspiration\", \"Carnival\", 17, 70.367, 20.52, 8.55, 10.2, 34.29, 9.2], [\"Legend\", \"Carnival\", 11, 86.0, 21.24, 9.63, 10.62, 40.49, 9.3], [\"Liberty*\", \"Carnival\", 8, 110.0, 29.74, 9.51, 14.87, 36.99, 11.6], [\"Miracle\", \"Carnival\", 9, 88.5, 21.24, 9.63, 10.62, 41.67, 10.3], [\"Paradise\", \"Carnival\", 15, 70.367, 20.52, 8.55, 10.2, 34.29, 9.2], [\"Pride\", \"Carnival\", 12, 88.5, 21.24, 9.63, 11.62, 41.67, 9.3], [\"Sensation\", \"Carnival\", 20, 70.367, 20.52, 8.55, 10.2, 34.29, 9.2], [\"Spirit\", \"Carnival\", 12, 88.5, 21.24, 9.63, 10.56, 41.67, 10.29], [\"Triumph\", \"Carnival\", 14, 101.509, 27.58, 8.93, 13.21, 36.81, 10.0], [\"Valor\", \"Carnival\", 9, 110.0, 29.74, 9.52, 14.87, 36.99, 11.6], [\"Victory\", \"Carnival\", 13, 101.509, 27.58, 8.93, 13.79, 36.81, 11.5], [\"Century\", \"Celebrity\", 18, 70.60600000000002, 17.7, 8.15, 8.75, 39.89, 8.58], [\"Constellation\", \"Celebrity\", 11, 91.0, 20.32, 9.65, 9.75, 44.78, 9.99], [\"Galaxy\", \"Celebrity\", 17, 77.71300000000002, 18.9, 8.66, 9.35, 41.12, 9.09], [\"Infinity\", \"Celebrity\", 12, 91.0, 20.32, 9.65, 9.75, 44.78, 9.99], [\"Mercury\", \"Celebrity\", 16, 77.71300000000002, 18.82, 8.66, 9.35, 41.29, 9.09], [\"Millenium\", \"Celebrity\", 13, 91.0, 20.32, 9.65, 9.75, 44.78, 9.99], [\"Solstice\", \"Celebrity\", 5, 122.0, 28.5, 10.33, 6.87, 34.57, 6.7], [\"Summit\", \"Celebrity\", 12, 91.0, 20.32, 9.65, 9.75, 44.78, 9.99], [\"Xpedition\", \"Celebrity\", 12, 2.329, 0.94, 2.96, 0.45, 24.78, 0.6], [\"Zenith\", \"Celebrity\", 21, 47.225, 13.66, 6.82, 6.87, 34.57, 6.7], [\"Allegra\", \"Costa\", 21, 28.43, 8.08, 6.16, 4.1, 35.19, 4.0], [\"Atlantica\", \"Costa\", 13, 85.619, 21.14, 9.57, 10.56, 40.5, 9.2], [\"Classica\", \"Costa\", 22, 52.926, 13.02, 7.18, 6.54, 40.65, 6.17], [\"Europa\", \"Costa\", 27, 53.872, 14.94, 7.98, 7.67, 36.06, 6.36], [\"Fortuna\", \"Costa\", 10, 105.0, 27.2, 8.9, 13.56, 38.6, 10.68], [\"Magica\", \"Costa\", 9, 105.0, 27.2, 8.9, 13.56, 38.6, 10.68], [\"Marina\", \"Costa\", 23, 25.0, 7.76, 6.22, 3.86, 32.22, 3.85], [\"Mediterranea\", \"Costa\", 10, 86.0, 21.14, 9.6, 10.56, 40.68, 9.2], [\"Romantica\", \"Costa\", 20, 53.049, 13.44, 7.22, 6.78, 39.47, 6.0], [\"Serena\", \"Costa\", 6, 112.0, 38.0, 9.51, 15.0, 29.47, 10.9], [\"Victoria\", \"Costa\", 17, 75.166, 19.28, 8.28, 9.64, 38.99, 7.66], [\"Serenity\", \"Crystal\", 10, 68.0, 10.8, 7.9, 5.5, 62.96, 6.36], [\"Symphony\", \"Crystal\", 18, 51.004, 9.4, 7.81, 4.8, 54.26, 5.45], [\"QueenElizabethII\", \"Cunard\", 44, 70.327, 17.91, 9.63, 9.5, 39.27, 9.21], [\"QueenMary2\", \"Cunard\", 10, 151.4, 26.2, 11.32, 11.34, 57.79, 12.53], [\"QueenVictoria\", \"Cunard\", 6, 90.0, 20.0, 9.64, 10.29, 45.0, 9.0], [\"Magic\", \"Disney\", 15, 83.338, 17.5, 9.64, 8.75, 47.62, 9.45], [\"Wonder\", \"Disney\", 14, 83.0, 17.5, 9.64, 8.75, 47.43, 9.45], [\"Amsterdam\", \"Holland_American\", 13, 61.0, 13.8, 7.8, 6.88, 44.2, 6.0], [\"Eurodam\", \"Holland_American\", 5, 86.0, 21.04, 9.36, 10.22, 40.87, 8.0], [\"Maasdam\", \"Holland_American\", 20, 55.451, 12.64, 7.19, 6.32, 43.87, 5.57], [\"Noordam\", \"Holland_American\", 29, 33.92, 12.14, 7.04, 6.07, 27.94, 5.3], [\"Oosterdam\", \"Holland_American\", 10, 81.76899999999998, 18.48, 9.59, 9.24, 44.25, 8.42], [\"Prinsendam\", \"Holland_American\", 25, 38.0, 7.49, 6.74, 3.96, 50.73, 4.6], [\"Rotterdam\", \"Holland_American\", 16, 59.652, 13.2, 7.77, 6.6, 45.19, 6.44], [\"Ryndam\", \"Holland_American\", 19, 55.451, 12.66, 7.19, 6.33, 43.8, 5.88], [\"Statendam\", \"Holland_American\", 20, 55.451, 12.66, 7.19, 6.33, 43.8, 5.88], [\"Veendam\", \"Holland_American\", 17, 55.451, 12.66, 7.19, 6.33, 43.8, 5.88], [\"Volendam\", \"Holland_American\", 14, 63.0, 14.4, 7.77, 7.2, 43.75, 5.61], [\"Westerdam\", \"Holland_American\", 27, 53.872, 14.94, 7.98, 7.47, 36.06, 6.12], [\"Zaandam\", \"Holland_American\", 13, 63.0, 14.4, 7.77, 7.2, 43.75, 5.31], [\"Zuiderdam\", \"Holland_American\", 11, 85.0, 18.48, 9.51, 9.24, 46.0, 8.0], [\"Armonia\", \"MSC\", 12, 58.6, 15.66, 8.24, 7.83, 37.42, 7.0], [\"Fantasia\", \"MSC\", 5, 133.5, 39.59, 10.93, 16.37, 33.72, 13.13], [\"Lirica\", \"MSC\", 10, 58.825, 15.6, 8.23, 7.65, 37.71, 7.0], [\"Melody\", \"MSC\", 31, 35.143, 12.5, 6.69, 5.32, 28.11, 5.35], [\"Musica\", \"MSC\", 7, 89.6, 25.5, 9.61, 12.75, 35.14, 9.87], [\"Opera\", \"MSC\", 9, 59.058, 17.0, 7.63, 8.5, 34.74, 7.4], [\"Rhapsody\", \"MSC\", 36, 16.852, 9.52, 5.41, 3.83, 17.7, 2.97], [\"Sinfonia\", \"MSC\", 11, 58.6, 15.66, 8.23, 7.83, 37.42, 7.6], [\"Crown\", \"Norwegian\", 25, 34.25, 10.52, 6.15, 5.26, 32.56, 4.7], [\"Dawn\", \"Norwegian\", 11, 90.0, 22.4, 9.65, 11.2, 40.18, 11.0], [\"Dream\", \"Norwegian\", 21, 50.76, 17.48, 7.54, 8.74, 29.04, 6.14], [\"Gem\", \"Norwegian\", 6, 93.0, 23.94, 9.65, 11.97, 38.85, 11.09], [\"Jewel\", \"Norwegian\", 8, 91.0, 22.44, 9.65, 11.22, 40.55, 11.0], [\"Majesty\", \"Norwegian\", 21, 38.0, 10.56, 5.67, 5.28, 35.98, 4.38], [\"PrideofAloha\", \"Norwegian\", 14, 77.104, 20.02, 8.53, 10.01, 38.51, 8.0], [\"PrideofAmerica\", \"Norwegian\", 9, 81.0, 21.44, 9.21, 10.72, 37.78, 10.0], [\"Sea\", \"Norwegian\", 25, 42.0, 15.04, 7.08, 7.52, 27.93, 6.3], [\"Spirit\", \"Norwegian\", 15, 75.33800000000002, 19.56, 8.79, 9.83, 38.52, 13.0], [\"Star\", \"Norwegian\", 40, 28.0, 11.5, 6.74, 4.0, 24.35, 3.8], [\"Sun\", \"Norwegian\", 12, 77.104, 20.02, 8.53, 10.01, 38.51, 9.59], [\"Wind\", \"Norwegian\", 20, 50.76, 17.48, 7.54, 8.74, 29.04, 6.14], [\"Insignia\", \"Oceania\", 15, 30.277, 6.84, 5.94, 3.42, 44.26, 4.0], [\"Nautica\", \"Oceania\", 13, 30.277, 6.84, 5.94, 3.42, 44.26, 4.0], [\"Regatta\", \"Oceania\", 15, 30.277, 6.84, 5.94, 3.42, 44.26, 4.0], [\"MarcoPolo\", \"Orient\", 48, 22.08, 8.26, 5.78, 4.25, 26.73, 3.5], [\"Arcadia\", \"P&O\", 9, 85.0, 19.68, 9.35, 9.84, 43.19, 8.69], [\"Artemis\", \"P&O\", 29, 45.0, 11.78, 7.54, 5.3, 38.2, 5.2], [\"Aurora\", \"P&O\", 13, 76.0, 18.74, 8.86, 9.39, 40.55, 8.5], [\"Oceana\", \"P&O\", 10, 77.0, 20.16, 8.56, 9.75, 38.19, 9.0], [\"Oriana\", \"P&O\", 18, 69.153, 18.82, 8.53, 9.14, 36.74, 7.94], [\"Ventura\", \"P&O\", 5, 115.0, 35.74, 9.0, 15.32, 32.18, 12.2], [\"Caribbean\", \"Princess\", 9, 116.0, 26.0, 9.51, 13.0, 44.62, 11.0], [\"Coral\", \"Princess\", 11, 91.627, 19.74, 9.64, 9.87, 46.42, 9.0], [\"Crown\", \"Princess\", 7, 116.0, 31.0, 9.51, 15.57, 37.42, 12.0], [\"Dawn\", \"Princess\", 16, 77.499, 19.5, 8.56, 10.5, 39.74, 9.0], [\"Diamond\", \"Princess\", 9, 113.0, 26.74, 9.51, 13.37, 42.26, 12.38], [\"Emerald\", \"Princess\", 6, 113.0, 37.82, 9.51, 15.57, 29.88, 12.0], [\"Golden\", \"Princess\", 12, 108.865, 27.58, 9.51, 13.0, 39.47, 11.0], [\"Grand\", \"Princess\", 15, 108.806, 26.0, 9.51, 13.0, 41.85, 11.1], [\"Island\", \"Princess\", 10, 91.627, 19.74, 9.64, 9.87, 46.42, 9.0], [\"Pacific\", \"Princess\", 14, 30.277, 6.86, 5.93, 3.44, 44.14, 3.73], [\"Regal\", \"Princess\", 22, 69.845, 15.9, 8.03, 7.95, 43.93, 6.96], [\"Royal\", \"Princess\", 29, 44.348, 12.0, 7.54, 6.0, 36.96, 5.2], [\"Saphire\", \"Princess\", 9, 113.0, 26.74, 9.51, 13.37, 42.26, 12.38], [\"Sea\", \"Princess\", 8, 77.499, 19.5, 8.56, 9.75, 39.74, 9.0], [\"Star\", \"Princess\", 11, 108.977, 26.02, 9.51, 13.01, 41.88, 12.0], [\"Sun\", \"Princess\", 18, 77.499, 19.5, 8.56, 9.75, 39.74, 9.0], [\"Tahitian\", \"Princess\", 14, 30.277, 6.88, 5.93, 3.44, 44.01, 3.73], [\"ExplorerII\", \"Regent_Seven_Seas\", 27, 12.5, 3.94, 4.36, 0.88, 31.73, 1.46], [\"Mariner\", \"Regent_Seven_Seas\", 12, 50.0, 7.0, 7.09, 3.54, 71.43, 4.45], [\"Navigator\", \"Regent_Seven_Seas\", 14, 33.0, 4.9, 5.6, 2.45, 67.35, 3.24], [\"PaulGauguin\", \"Regent_Seven_Seas\", 16, 19.2, 3.2, 5.13, 1.6, 60.0, 2.11], [\"Voyager\", \"Regent_Seven_Seas\", 10, 46.0, 7.0, 6.7, 1.82, 65.71, 4.47], [\"Adventure\", \"Royal_Caribbean\", 12, 138.0, 31.14, 10.2, 15.57, 44.32, 11.85], [\"Brilliance\", \"Royal_Caribbean\", 11, 90.09, 25.01, 9.62, 10.5, 36.02, 8.48], [\"Empress\", \"Royal_Caribbean\", 23, 48.563, 20.2, 6.92, 8.0, 24.04, 6.71], [\"Enchantment\", \"Royal_Caribbean\", 16, 74.137, 19.5, 9.16, 9.75, 38.02, 7.6], [\"Explorer\", \"Royal_Caribbean\", 13, 138.0, 31.14, 10.2, 15.57, 44.32, 11.76], [\"Freedom\", \"Royal_Caribbean\", 7, 158.0, 43.7, 11.12, 18.0, 36.16, 13.6], [\"Grandeur\", \"Royal_Caribbean\", 17, 74.137, 19.5, 9.16, 9.75, 38.02, 7.6], [\"Independence\", \"Royal_Caribbean\", 5, 160.0, 36.34, 11.12, 18.17, 44.03, 13.6], [\"Jewel\", \"Royal_Caribbean\", 9, 90.09, 25.01, 9.62, 10.94, 36.02, 8.69], [\"Legend\", \"Royal_Caribbean\", 18, 70.0, 18.0, 8.67, 9.0, 38.89, 7.2], [\"Liberty\", \"Royal_Caribbean\", 6, 158.0, 43.7, 11.25, 18.0, 36.16, 13.6], [\"Majesty\", \"Royal_Caribbean\", 21, 73.941, 27.44, 8.8, 11.75, 26.95, 8.22], [\"Mariner\", \"Royal_Caribbean\", 10, 138.0, 31.14, 10.2, 15.57, 44.32, 11.85], [\"Monarch\", \"Royal_Caribbean\", 22, 73.941, 27.44, 8.8, 11.77, 30.94, 8.22], [\"Navigator\", \"Royal_Caribbean\", 11, 138.0, 31.14, 10.2, 15.57, 44.32, 11.85], [\"Oasis\", \"Royal_Caribbean\", 4, 220.0, 54.0, 11.82, 27.0, 40.74, 21.0], [\"Radiance\", \"Royal_Caribbean\", 12, 90.09, 25.01, 9.62, 10.5, 36.02, 8.68], [\"Rhapsody\", \"Royal_Caribbean\", 16, 78.491, 24.35, 9.15, 10.0, 32.23, 7.65], [\"Serenade\", \"Royal_Caribbean\", 10, 90.09, 25.01, 9.62, 10.5, 36.02, 8.58], [\"Sovreign\", \"Royal_Caribbean\", 25, 73.192, 28.52, 8.8, 11.38, 25.66, 8.08], [\"Splendour\", \"Royal_Caribbean\", 17, 70.0, 20.76, 8.67, 9.02, 33.72, 7.2], [\"Vision\", \"Royal_Caribbean\", 15, 78.491, 24.35, 9.15, 10.0, 32.23, 6.6], [\"Voyager\", \"Royal_Caribbean\", 14, 138.0, 31.14, 10.2, 15.57, 44.32, 11.76], [\"Legend\", \"Seabourn\", 21, 10.0, 2.08, 4.4, 1.04, 48.08, 1.6], [\"Pride\", \"Seabourn\", 27, 10.0, 2.08, 4.4, 1.04, 48.08, 1.6], [\"Spirit\", \"Seabourn\", 24, 10.0, 2.08, 4.4, 1.04, 48.08, 1.6], [\"Cloud\", \"Silversea\", 19, 16.8, 2.96, 5.14, 1.48, 56.76, 2.1], [\"Shadow\", \"Silversea\", 13, 25.0, 3.82, 5.97, 1.94, 65.45, 2.95], [\"Whisper\", \"Silversea\", 12, 25.0, 3.88, 5.97, 1.94, 64.43, 2.87], [\"Wind\", \"Silversea\", 19, 16.8, 2.96, 5.14, 1.48, 56.76, 1.97], [\"Aries\", \"Star\", 22, 3.341, 0.66, 2.8, 0.33, 50.62, 0.59], [\"Gemini\", \"Star\", 21, 19.093, 8.0, 5.37, 4.0, 23.87, 4.7], [\"Libra\", \"Star\", 12, 42.0, 14.8, 7.13, 7.4, 28.38, 6.8], [\"Pisces\", \"Star\", 24, 40.053, 12.87, 5.79, 7.76, 31.12, 7.5], [\"Taurus\", \"Star\", 22, 3.341, 0.66, 2.79, 0.33, 50.62, 0.59], [\"Virgo\", \"Star\", 14, 76.8, 19.6, 8.79, 9.67, 39.18, 12.0], [\"Spirit\", \"Windstar\", 25, 5.35, 1.58, 4.4, 0.74, 33.86, 0.88], [\"Star\", \"Windstar\", 27, 5.35, 1.67, 4.4, 0.74, 32.04, 0.88], [\"Surf\", \"Windstar\", 23, 14.745, 3.08, 6.17, 1.56, 47.87, 1.8]], \"hoverlabel\": {\"namelength\": 0}, \"hovertemplate\": \"svd_X=%{x}<br>svd_Y=%{y}<br>crew=%{customdata[8]}<br>Ship_name=%{customdata[0]}<br>Cruise_line=%{customdata[1]}<br>Age=%{customdata[2]}<br>Tonnage=%{customdata[3]}<br>passengers=%{customdata[4]}<br>length=%{customdata[5]}<br>cabins=%{customdata[6]}<br>passenger_density=%{customdata[7]}<br>cluster=%{marker.color}\", \"legendgroup\": \"\", \"marker\": {\"color\": [2, 2, 0, 3, 3, 0, 0, 0, 0, 3, 3, 2, 0, 0, 3, 3, 3, 0, 3, 0, 3, 3, 3, 3, 0, 3, 0, 3, 0, 3, 3, 3, 2, 0, 2, 3, 0, 0, 3, 3, 2, 3, 0, 3, 0, 0, 0, 0, 1, 3, 0, 0, 0, 3, 0, 2, 0, 2, 0, 0, 0, 0, 0, 0, 0, 3, 0, 1, 0, 2, 3, 0, 2, 0, 2, 3, 0, 3, 3, 2, 0, 0, 2, 0, 2, 0, 0, 2, 2, 2, 2, 3, 2, 0, 0, 0, 3, 3, 3, 3, 0, 3, 3, 3, 3, 3, 2, 0, 2, 3, 0, 3, 0, 2, 2, 0, 2, 2, 2, 1, 3, 0, 0, 1, 1, 0, 1, 3, 0, 1, 0, 1, 0, 1, 1, 3, 0, 3, 0, 0, 0, 1, 2, 2, 2, 2, 2, 2, 2, 2, 2, 2, 2, 2, 0, 2, 2, 2], \"coloraxis\": \"coloraxis\", \"size\": [3.55, 3.55, 6.7, 19.1, 10.0, 9.2, 9.2, 9.2, 9.2, 11.5, 11.6, 6.6, 9.2, 9.2, 9.3, 11.6, 10.3, 9.2, 9.3, 9.2, 10.29, 10.0, 11.6, 11.5, 8.58, 9.99, 9.09, 9.99, 9.09, 9.99, 6.7, 9.99, 0.6, 6.7, 4.0, 9.2, 6.17, 6.36, 10.68, 10.68, 3.85, 9.2, 6.0, 10.9, 7.66, 6.36, 5.45, 9.21, 12.53, 9.0, 9.45, 9.45, 6.0, 8.0, 5.57, 5.3, 8.42, 4.6, 6.44, 5.88, 5.88, 5.88, 5.61, 6.12, 5.31, 8.0, 7.0, 13.13, 7.0, 5.35, 9.87, 7.4, 2.97, 7.6, 4.7, 11.0, 6.14, 11.09, 11.0, 4.38, 8.0, 10.0, 6.3, 13.0, 3.8, 9.59, 6.14, 4.0, 4.0, 4.0, 3.5, 8.69, 5.2, 8.5, 9.0, 7.94, 12.2, 11.0, 9.0, 12.0, 9.0, 12.38, 12.0, 11.0, 11.1, 9.0, 3.73, 6.96, 5.2, 12.38, 9.0, 12.0, 9.0, 3.73, 1.46, 4.45, 3.24, 2.11, 4.47, 11.85, 8.48, 6.71, 7.6, 11.76, 13.6, 7.6, 13.6, 8.69, 7.2, 13.6, 8.22, 11.85, 8.22, 11.85, 21.0, 8.68, 7.65, 8.58, 8.08, 7.2, 6.6, 11.76, 1.6, 1.6, 1.6, 2.1, 2.95, 2.87, 1.97, 0.59, 4.7, 6.8, 7.5, 0.59, 12.0, 0.88, 0.88, 1.8], \"sizemode\": \"area\", \"sizeref\": 0.0525, \"symbol\": \"circle\"}, \"mode\": \"markers\", \"name\": \"\", \"showlegend\": false, \"type\": \"scatter\", \"x\": [46.68031677044766, 46.6803167704477, 62.08912308197559, 120.71250750965807, 113.64639374538869, 84.20960963527499, 83.23345704565536, 84.33585761036299, 83.79125852543802, 118.92700389595099, 120.57023241767318, 61.19897125401403, 83.65180815549236, 83.5123577855467, 99.01273948712051, 120.29133167778188, 101.37451426637618, 83.23345704565536, 101.89843645253522, 83.93070889538367, 101.78653111163388, 112.99650006611624, 120.43166655336553, 112.91828092043737, 85.30206162858522, 104.77787642978218, 92.18778884223994, 104.91732679972787, 92.09911573712226, 105.05677716967354, 128.2435533954466, 104.91732679972787, 14.194276019509356, 62.1156444232725, 44.50036547140191, 98.9318965233309, 69.49783676553035, 69.78025434590019, 116.13353458846144, 115.99408421851578, 40.52084425987208, 98.91870558228965, 68.9718951765824, 120.55854161914769, 89.20479455067164, 89.33199343556593, 71.82988279297263, 88.69291600425251, 163.81007879484443, 103.2884232189773, 99.1129526594892, 98.60420619153346, 76.92957251498859, 98.2187356779081, 72.5968022938651, 48.634612789461144, 95.96328908777483, 59.51459628319927, 76.41424103600306, 72.43463102084279, 72.57408139078845, 72.15573028095146, 78.78390691724879, 69.75914013063579, 78.64445654730311, 99.59913290206667, 72.53076138095449, 141.37469553923384, 72.53040557273074, 50.01086649645393, 100.58403394221678, 71.74282454777199, 29.740888496988088, 72.39042650537085, 49.701140218585714, 102.67214924849199, 64.05638970787382, 104.45971102815892, 103.27994026052592, 53.7378107684869, 90.49661692667705, 93.3291768657915, 55.86990983043616, 89.0126776772051, 43.20784263483681, 90.21771618678571, 63.91693933792816, 48.552329583554716, 48.273428843663396, 48.552329583554716, 39.37886172757673, 98.5029856586301, 62.24838026811159, 89.90317473686015, 89.72602293726324, 83.09727771076808, 123.59713287881941, 127.67559718822048, 105.86503329058901, 125.8746848588231, 91.55242009641218, 124.32943903881586, 121.61010595716155, 120.18941145432349, 121.16559083456454, 105.72558292064338, 48.370179883597835, 86.33485416088902, 61.306661119915006, 124.32943903881586, 90.35763882960535, 120.77346357927826, 91.75214252906197, 48.32222371128622, 28.729660107312487, 76.31439382353025, 59.513788737244795, 44.370996347764525, 70.0500664807863, 148.49791590144744, 101.57558145328846, 60.88750703252385, 87.921478861023, 148.63736627139312, 164.9551529695284, 88.06092923096865, 167.96657021672465, 101.34313198697886, 84.51311816060819, 164.82720117287664, 85.9270046213096, 148.21901516155611, 87.67650705115241, 148.3584655315018, 223.37306804838843, 101.71503182323414, 90.45944610320595, 101.43613108334281, 85.51658212899714, 82.90404346125455, 90.3199957332603, 148.77681664133877, 31.924915756339875, 32.761617976013845, 32.343266866176855, 41.340134389646366, 51.41970132422694, 50.88249707339316, 41.340134389646366, 26.789679126668833, 31.753943668226242, 54.17696125618603, 54.760061003731444, 26.788794621030842, 90.39735314996778, 22.582500562610736, 22.14790261522313, 36.66172974779659], \"xaxis\": \"x\", \"y\": [-23.115093352045374, -23.115093352045733, -15.687539675690275, 14.49243275888103, 6.76419096205215, -5.718581931038199, -2.5653194918758975, -6.116329688845295, -4.367183742825778, 23.350200141005633, 14.94365062321307, -17.06944387975468, -3.916717680088313, -3.4662516173508418, 0.7745139024306689, 15.84458274868802, 1.7674841320071049, -2.5653194918758975, 0.46429777569080494, -4.817649805563248, 0.4131932338809253, 9.53057990216137, 15.39349972599378, 10.009008827398585, -8.58497320659456, -0.7050490211174287, -6.069004668332057, -1.1555150838549, -5.761148319212354, -1.6059811465923715, 23.373623988196965, -1.1555150838549, -23.886282434602972, -15.763741795571942, -24.645049250855312, -0.3001708313410718, -18.77016443365943, -16.811889275409754, 11.322543089513676, 11.773009152251145, -24.669631768687026, 1.0632717027672778, -16.836664346077946, 24.44237216935862, -5.353860132653398, -25.05539147678292, -28.95202382614386, -19.955269180956478, 14.773562429379645, 0.9572941671510466, -8.226413412212905, -7.7645670922953665, -14.142301747517084, 3.1533506002149925, -19.419519427381065, -19.819320033987385, -3.830450548834091, -34.82870195850152, -16.899241437500113, -18.9114129505521, -19.361879013289578, -18.010480825077156, -13.339224055424774, -16.82153164178898, -12.888757992687301, -4.332962957815305, -9.120552568947982, 30.467308840160147, -8.370383844840799, -20.327815774572105, 8.840161609885786, -5.255577644960185, -22.217000756567664, -8.669469546253744, -21.676328508090826, 2.8075422376813335, -9.496922427599129, 7.540938767836309, 4.281319297172335, -20.99134865265794, -2.748576831088267, 1.8199752395716722, -14.31191564091264, -4.004031991674481, -24.52868804278788, -1.8476447056133243, -9.046456364861664, -28.454526990327224, -27.55359486485228, -28.454526990327224, -32.71690678440033, -1.0507584690568648, -23.45667418476249, -4.5464870311662935, -0.7361529772042196, -6.5807370827486045, 23.7652099517151, 11.320856235818795, -1.7967242191028965, 18.58034184362501, -4.492109139013882, 12.055881916359633, 24.53340931936233, 11.291451418976997, 7.863997104205443, -1.3462581563654243, -27.906219858189655, -14.103774613261677, -22.691298876826128, 12.055881916359633, -0.9245395110362019, 9.714713351211147, -5.429200138410911, -27.802139669977677, -31.65286667615372, -40.39052321063747, -45.21595993584612, -46.18820162825078, -36.698970100472266, 19.836887112150233, 6.380729590362246, -7.048371411107979, -4.584941901540811, 19.386421049412757, 38.16697502754635, -5.035407964278282, 32.84426284018046, 7.30287492187149, -8.032725388889087, 38.60942061084583, 2.8180749796547278, 20.737819237625168, -0.7517326936686826, 20.287353174887695, 62.73958931930359, 5.93026352762478, 2.3090291559024334, 6.831195653099715, 1.8336171238878451, -3.204771890457714, 2.7594952186399047, 18.935954986675288, -42.970571435445855, -45.67336781187068, -44.321969623658276, -46.01545496882915, -46.70499127720525, -45.44960477921752, -46.01545496882915, -48.21757202568342, -19.548404869816935, -8.84563429335076, -17.317470807653166, -48.216955065726644, -3.4791127666705273, -35.614406625039834, -35.0811689508487, -41.74444685951714], \"yaxis\": \"y\"}],\n",
              "                        {\"coloraxis\": {\"colorbar\": {\"title\": {\"text\": \"cluster\"}}, \"colorscale\": [[0.0, \"#0d0887\"], [0.1111111111111111, \"#46039f\"], [0.2222222222222222, \"#7201a8\"], [0.3333333333333333, \"#9c179e\"], [0.4444444444444444, \"#bd3786\"], [0.5555555555555556, \"#d8576b\"], [0.6666666666666666, \"#ed7953\"], [0.7777777777777778, \"#fb9f3a\"], [0.8888888888888888, \"#fdca26\"], [1.0, \"#f0f921\"]]}, \"legend\": {\"itemsizing\": \"constant\", \"tracegroupgap\": 0}, \"template\": {\"data\": {\"bar\": [{\"error_x\": {\"color\": \"#2a3f5f\"}, \"error_y\": {\"color\": \"#2a3f5f\"}, \"marker\": {\"line\": {\"color\": \"#E5ECF6\", \"width\": 0.5}}, \"type\": \"bar\"}], \"barpolar\": [{\"marker\": {\"line\": {\"color\": \"#E5ECF6\", \"width\": 0.5}}, \"type\": \"barpolar\"}], \"carpet\": [{\"aaxis\": {\"endlinecolor\": \"#2a3f5f\", \"gridcolor\": \"white\", \"linecolor\": \"white\", \"minorgridcolor\": \"white\", \"startlinecolor\": \"#2a3f5f\"}, \"baxis\": {\"endlinecolor\": \"#2a3f5f\", \"gridcolor\": \"white\", \"linecolor\": \"white\", \"minorgridcolor\": \"white\", \"startlinecolor\": \"#2a3f5f\"}, \"type\": \"carpet\"}], \"choropleth\": [{\"colorbar\": {\"outlinewidth\": 0, \"ticks\": \"\"}, \"type\": \"choropleth\"}], \"contour\": [{\"colorbar\": {\"outlinewidth\": 0, \"ticks\": \"\"}, \"colorscale\": [[0.0, \"#0d0887\"], [0.1111111111111111, \"#46039f\"], [0.2222222222222222, \"#7201a8\"], [0.3333333333333333, \"#9c179e\"], [0.4444444444444444, \"#bd3786\"], [0.5555555555555556, \"#d8576b\"], [0.6666666666666666, \"#ed7953\"], [0.7777777777777778, \"#fb9f3a\"], [0.8888888888888888, \"#fdca26\"], [1.0, \"#f0f921\"]], \"type\": \"contour\"}], \"contourcarpet\": [{\"colorbar\": {\"outlinewidth\": 0, \"ticks\": \"\"}, \"type\": \"contourcarpet\"}], \"heatmap\": [{\"colorbar\": {\"outlinewidth\": 0, \"ticks\": \"\"}, \"colorscale\": [[0.0, \"#0d0887\"], [0.1111111111111111, \"#46039f\"], [0.2222222222222222, \"#7201a8\"], [0.3333333333333333, \"#9c179e\"], [0.4444444444444444, \"#bd3786\"], [0.5555555555555556, \"#d8576b\"], [0.6666666666666666, \"#ed7953\"], [0.7777777777777778, \"#fb9f3a\"], [0.8888888888888888, \"#fdca26\"], [1.0, \"#f0f921\"]], \"type\": \"heatmap\"}], \"heatmapgl\": [{\"colorbar\": {\"outlinewidth\": 0, \"ticks\": \"\"}, \"colorscale\": [[0.0, \"#0d0887\"], [0.1111111111111111, \"#46039f\"], [0.2222222222222222, \"#7201a8\"], [0.3333333333333333, \"#9c179e\"], [0.4444444444444444, \"#bd3786\"], [0.5555555555555556, \"#d8576b\"], [0.6666666666666666, \"#ed7953\"], [0.7777777777777778, \"#fb9f3a\"], [0.8888888888888888, \"#fdca26\"], [1.0, \"#f0f921\"]], \"type\": \"heatmapgl\"}], \"histogram\": [{\"marker\": {\"colorbar\": {\"outlinewidth\": 0, \"ticks\": \"\"}}, \"type\": \"histogram\"}], \"histogram2d\": [{\"colorbar\": {\"outlinewidth\": 0, \"ticks\": \"\"}, \"colorscale\": [[0.0, \"#0d0887\"], [0.1111111111111111, \"#46039f\"], [0.2222222222222222, \"#7201a8\"], [0.3333333333333333, \"#9c179e\"], [0.4444444444444444, \"#bd3786\"], [0.5555555555555556, \"#d8576b\"], [0.6666666666666666, \"#ed7953\"], [0.7777777777777778, \"#fb9f3a\"], [0.8888888888888888, \"#fdca26\"], [1.0, \"#f0f921\"]], \"type\": \"histogram2d\"}], \"histogram2dcontour\": [{\"colorbar\": {\"outlinewidth\": 0, \"ticks\": \"\"}, \"colorscale\": [[0.0, \"#0d0887\"], [0.1111111111111111, \"#46039f\"], [0.2222222222222222, \"#7201a8\"], [0.3333333333333333, \"#9c179e\"], [0.4444444444444444, \"#bd3786\"], [0.5555555555555556, \"#d8576b\"], [0.6666666666666666, \"#ed7953\"], [0.7777777777777778, \"#fb9f3a\"], [0.8888888888888888, \"#fdca26\"], [1.0, \"#f0f921\"]], \"type\": \"histogram2dcontour\"}], \"mesh3d\": [{\"colorbar\": {\"outlinewidth\": 0, \"ticks\": \"\"}, \"type\": \"mesh3d\"}], \"parcoords\": [{\"line\": {\"colorbar\": {\"outlinewidth\": 0, \"ticks\": \"\"}}, \"type\": \"parcoords\"}], \"pie\": [{\"automargin\": true, \"type\": \"pie\"}], \"scatter\": [{\"marker\": {\"colorbar\": {\"outlinewidth\": 0, \"ticks\": \"\"}}, \"type\": \"scatter\"}], \"scatter3d\": [{\"line\": {\"colorbar\": {\"outlinewidth\": 0, \"ticks\": \"\"}}, \"marker\": {\"colorbar\": {\"outlinewidth\": 0, \"ticks\": \"\"}}, \"type\": \"scatter3d\"}], \"scattercarpet\": [{\"marker\": {\"colorbar\": {\"outlinewidth\": 0, \"ticks\": \"\"}}, \"type\": \"scattercarpet\"}], \"scattergeo\": [{\"marker\": {\"colorbar\": {\"outlinewidth\": 0, \"ticks\": \"\"}}, \"type\": \"scattergeo\"}], \"scattergl\": [{\"marker\": {\"colorbar\": {\"outlinewidth\": 0, \"ticks\": \"\"}}, \"type\": \"scattergl\"}], \"scattermapbox\": [{\"marker\": {\"colorbar\": {\"outlinewidth\": 0, \"ticks\": \"\"}}, \"type\": \"scattermapbox\"}], \"scatterpolar\": [{\"marker\": {\"colorbar\": {\"outlinewidth\": 0, \"ticks\": \"\"}}, \"type\": \"scatterpolar\"}], \"scatterpolargl\": [{\"marker\": {\"colorbar\": {\"outlinewidth\": 0, \"ticks\": \"\"}}, \"type\": \"scatterpolargl\"}], \"scatterternary\": [{\"marker\": {\"colorbar\": {\"outlinewidth\": 0, \"ticks\": \"\"}}, \"type\": \"scatterternary\"}], \"surface\": [{\"colorbar\": {\"outlinewidth\": 0, \"ticks\": \"\"}, \"colorscale\": [[0.0, \"#0d0887\"], [0.1111111111111111, \"#46039f\"], [0.2222222222222222, \"#7201a8\"], [0.3333333333333333, \"#9c179e\"], [0.4444444444444444, \"#bd3786\"], [0.5555555555555556, \"#d8576b\"], [0.6666666666666666, \"#ed7953\"], [0.7777777777777778, \"#fb9f3a\"], [0.8888888888888888, \"#fdca26\"], [1.0, \"#f0f921\"]], \"type\": \"surface\"}], \"table\": [{\"cells\": {\"fill\": {\"color\": \"#EBF0F8\"}, \"line\": {\"color\": \"white\"}}, \"header\": {\"fill\": {\"color\": \"#C8D4E3\"}, \"line\": {\"color\": \"white\"}}, \"type\": \"table\"}]}, \"layout\": {\"annotationdefaults\": {\"arrowcolor\": \"#2a3f5f\", \"arrowhead\": 0, \"arrowwidth\": 1}, \"coloraxis\": {\"colorbar\": {\"outlinewidth\": 0, \"ticks\": \"\"}}, \"colorscale\": {\"diverging\": [[0, \"#8e0152\"], [0.1, \"#c51b7d\"], [0.2, \"#de77ae\"], [0.3, \"#f1b6da\"], [0.4, \"#fde0ef\"], [0.5, \"#f7f7f7\"], [0.6, \"#e6f5d0\"], [0.7, \"#b8e186\"], [0.8, \"#7fbc41\"], [0.9, \"#4d9221\"], [1, \"#276419\"]], \"sequential\": [[0.0, \"#0d0887\"], [0.1111111111111111, \"#46039f\"], [0.2222222222222222, \"#7201a8\"], [0.3333333333333333, \"#9c179e\"], [0.4444444444444444, \"#bd3786\"], [0.5555555555555556, \"#d8576b\"], [0.6666666666666666, \"#ed7953\"], [0.7777777777777778, \"#fb9f3a\"], [0.8888888888888888, \"#fdca26\"], [1.0, \"#f0f921\"]], \"sequentialminus\": [[0.0, \"#0d0887\"], [0.1111111111111111, \"#46039f\"], [0.2222222222222222, \"#7201a8\"], [0.3333333333333333, \"#9c179e\"], [0.4444444444444444, \"#bd3786\"], [0.5555555555555556, \"#d8576b\"], [0.6666666666666666, \"#ed7953\"], [0.7777777777777778, \"#fb9f3a\"], [0.8888888888888888, \"#fdca26\"], [1.0, \"#f0f921\"]]}, \"colorway\": [\"#636efa\", \"#EF553B\", \"#00cc96\", \"#ab63fa\", \"#FFA15A\", \"#19d3f3\", \"#FF6692\", \"#B6E880\", \"#FF97FF\", \"#FECB52\"], \"font\": {\"color\": \"#2a3f5f\"}, \"geo\": {\"bgcolor\": \"white\", \"lakecolor\": \"white\", \"landcolor\": \"#E5ECF6\", \"showlakes\": true, \"showland\": true, \"subunitcolor\": \"white\"}, \"hoverlabel\": {\"align\": \"left\"}, \"hovermode\": \"closest\", \"mapbox\": {\"style\": \"light\"}, \"paper_bgcolor\": \"white\", \"plot_bgcolor\": \"#E5ECF6\", \"polar\": {\"angularaxis\": {\"gridcolor\": \"white\", \"linecolor\": \"white\", \"ticks\": \"\"}, \"bgcolor\": \"#E5ECF6\", \"radialaxis\": {\"gridcolor\": \"white\", \"linecolor\": \"white\", \"ticks\": \"\"}}, \"scene\": {\"xaxis\": {\"backgroundcolor\": \"#E5ECF6\", \"gridcolor\": \"white\", \"gridwidth\": 2, \"linecolor\": \"white\", \"showbackground\": true, \"ticks\": \"\", \"zerolinecolor\": \"white\"}, \"yaxis\": {\"backgroundcolor\": \"#E5ECF6\", \"gridcolor\": \"white\", \"gridwidth\": 2, \"linecolor\": \"white\", \"showbackground\": true, \"ticks\": \"\", \"zerolinecolor\": \"white\"}, \"zaxis\": {\"backgroundcolor\": \"#E5ECF6\", \"gridcolor\": \"white\", \"gridwidth\": 2, \"linecolor\": \"white\", \"showbackground\": true, \"ticks\": \"\", \"zerolinecolor\": \"white\"}}, \"shapedefaults\": {\"line\": {\"color\": \"#2a3f5f\"}}, \"ternary\": {\"aaxis\": {\"gridcolor\": \"white\", \"linecolor\": \"white\", \"ticks\": \"\"}, \"baxis\": {\"gridcolor\": \"white\", \"linecolor\": \"white\", \"ticks\": \"\"}, \"bgcolor\": \"#E5ECF6\", \"caxis\": {\"gridcolor\": \"white\", \"linecolor\": \"white\", \"ticks\": \"\"}}, \"title\": {\"x\": 0.05}, \"xaxis\": {\"automargin\": true, \"gridcolor\": \"white\", \"linecolor\": \"white\", \"ticks\": \"\", \"title\": {\"standoff\": 15}, \"zerolinecolor\": \"white\", \"zerolinewidth\": 2}, \"yaxis\": {\"automargin\": true, \"gridcolor\": \"white\", \"linecolor\": \"white\", \"ticks\": \"\", \"title\": {\"standoff\": 15}, \"zerolinecolor\": \"white\", \"zerolinewidth\": 2}}}, \"title\": {\"text\": \"Numerical independent variables projected and clustered (K-Means) in SVD 2D space\"}, \"xaxis\": {\"anchor\": \"y\", \"domain\": [0.0, 1.0], \"title\": {\"text\": \"svd_X\"}}, \"yaxis\": {\"anchor\": \"x\", \"domain\": [0.0, 1.0], \"title\": {\"text\": \"svd_Y\"}}},\n",
              "                        {\"responsive\": true}\n",
              "                    ).then(function(){\n",
              "                            \n",
              "var gd = document.getElementById('1def3aff-e38f-4c8d-8c67-4cdf03d276f3');\n",
              "var x = new MutationObserver(function (mutations, observer) {{\n",
              "        var display = window.getComputedStyle(gd).display;\n",
              "        if (!display || display === 'none') {{\n",
              "            console.log([gd, 'removed!']);\n",
              "            Plotly.purge(gd);\n",
              "            observer.disconnect();\n",
              "        }}\n",
              "}});\n",
              "\n",
              "// Listen for the removal of the full notebook cells\n",
              "var notebookContainer = gd.closest('#notebook-container');\n",
              "if (notebookContainer) {{\n",
              "    x.observe(notebookContainer, {childList: true});\n",
              "}}\n",
              "\n",
              "// Listen for the clearing of the current output cell\n",
              "var outputEl = gd.closest('.output');\n",
              "if (outputEl) {{\n",
              "    x.observe(outputEl, {childList: true});\n",
              "}}\n",
              "\n",
              "                        })\n",
              "                };\n",
              "                \n",
              "            </script>\n",
              "        </div>\n",
              "</body>\n",
              "</html>"
            ]
          },
          "metadata": {
            "tags": []
          }
        }
      ]
    },
    {
      "cell_type": "markdown",
      "metadata": {
        "id": "0koJdE2Pm2ID"
      },
      "source": [
        "### Modeling\n",
        "\n",
        "Here we build a linear model with L2 regularisation to predict crew size given the independent variables. The following steps are done:\n",
        "- The data set is split in 60/40 train and test percentage ratio\n",
        "- Interaction terms are also added between numerical independent variables and Cruise_line one-hot-variables, e.g. Orient*Tonnage. This to capture numerical variable distribution differences conditioned on Cruise_line.\n",
        "- Ridge linear regression is used to model crew ship size given decision variables\n",
        "\n",
        "The objective function of Ridge regression is to minimize the sum of squared errors between actual and predicted while at the same time minimizing the sum of squared regression coefficients. By doing so Ridge regression strikes a balance between under- and over-fitting. Thereby it effectively seeks to find the best tradeoff between bias (underfitting) and variance (overfitting). Ridge regression objective function:<br>\n",
        "$$objective=min(\\sum_{i=0}^{n}(y_i-\\sum_{j=0}^{p}x_{i,j}\\beta_{j})^2+\\lambda\\sum_{j=0}^{p}\\beta_{j}^2)$$<br>\n",
        "where $n$ is number of observations in data set, $p$ is number of model parameters (variables), $\\beta$ is model coefficients and $\\lambda$ is regularization penalty term. In Ridge regression $\\lambda$ is called alpha.\n",
        "\n",
        "Overfitting in a linear model can be caused by high weight attainment in the coefficients (i.e. high variance), \n",
        "especially for models with many variables. Ridge objective function seeks to minimize coefficients (both in positive and negative direction, hence squared), while also minimizing model error. The objective function forces the learning algorithm to learn the simplest model with the best performance (minimum error). Simpler models are more likely to generalize well to unseen data."
      ]
    },
    {
      "cell_type": "code",
      "metadata": {
        "id": "5KFKqQGQm2ID"
      },
      "source": [
        "# Add interaction terms for numerical variables and Cruise_line one-hot-variables\n",
        "for interaction in [(i,j) for i in numerical_independent_variables for j in one_hot_variables]:\n",
        "    data.loc[:, interaction[0] + \"*\" + interaction[1]] = data[interaction[0]]*data[interaction[1]]\n",
        "\n",
        "interaction_variables = [i for i in data.columns.values if \"*\" in i]\n",
        "    \n",
        "X_train, X_test, Y_train, Y_test = train_test_split(\n",
        "    data.loc[:, numerical_independent_variables + interaction_variables],\n",
        "    data.loc[:, target_variable],\n",
        "    test_size=.4, random_state=42\n",
        ")"
      ],
      "execution_count": null,
      "outputs": []
    },
    {
      "cell_type": "markdown",
      "metadata": {
        "id": "O1lnO_22m2II"
      },
      "source": [
        "Perform grid search for L2 regularization parameter in Ridge regression. For each parameter value perform 5-fold cross validation over training data and return means for RMSE, Pearson and $R^2$ scores. Select best L2 parameter (alpha) as sample where distance is minimum between mean Pearson score for train and validation. We thereby seek to find a good estimate for balance between under- and over-fitting. Alpha is the hyper-parameter that is tuned below in order to improve the generalizability of the model.\n",
        "\n",
        "Pearson correlation is defined above.\n",
        "\n",
        "$R^2$ is defined as $R^2 = 1-\\frac{\\sum_{i=0}^{n}(y_i-f_i)^2}{\\sum_{i=0}^{n}(y_i-\\bar{y})^2}$ where $f$ is model prediction. I.e. model residuals over variance of target variable subtracted from 1. A model that always predicts the mean value of $y$ will have $R^2=0$, whereas a model which explain all the variance in $y$ will have $R^2=1$, in other words a perfect fit.\n",
        "\n",
        "RMSE is defined as $\\sqrt{\\frac{1}{N}\\sum_{i=0}^{N}(f_i-y_i)^2}$"
      ]
    },
    {
      "cell_type": "code",
      "metadata": {
        "id": "MutSuTHxm2II"
      },
      "source": [
        "def pearson(x, y):\n",
        "    return pearsonr(x, y)[0]\n",
        "\n",
        "def rmse(x, y):\n",
        "    return np.sqrt(mean_squared_error(x, y))\n",
        "\n",
        "scorer = {\n",
        "    \"Pearson\": make_scorer(pearson, greater_is_better=True),\n",
        "    \"RMSE\": make_scorer(rmse, greater_is_better=True),\n",
        "    \"R2\": make_scorer(r2_score, greater_is_better=True)\n",
        "}\n",
        "\n",
        "metrics = []\n",
        "\n",
        "for l2 in np.arange(.01, 2, step=.01):\n",
        "\n",
        "    clf = Ridge(alpha=l2, max_iter=1000000)\n",
        "    clf.fit(X_train, Y_train)\n",
        "    \n",
        "    cv_results = cross_validate(clf, X_train, Y_train, cv=5,\n",
        "                                return_train_score=True, scoring=scorer)\n",
        "    \n",
        "    metrics.append([\n",
        "        l2,\n",
        "        np.mean(cv_results[\"train_RMSE\"]),\n",
        "        np.mean(cv_results[\"test_RMSE\"]),\n",
        "        np.mean(cv_results[\"train_Pearson\"]),\n",
        "        np.mean(cv_results[\"test_Pearson\"]),\n",
        "        np.mean(cv_results[\"train_R2\"]),\n",
        "        np.mean(cv_results[\"test_R2\"])\n",
        "    ])\n",
        "    \n",
        "metrics = pd.DataFrame(metrics,\n",
        "                       columns=[\"L2 regularization strength\",\n",
        "                                \"Train RMSE\", \"Validation RMSE\",\n",
        "                                \"Train Pearson\", \"Validation Pearson\",\n",
        "                               \"Train R2\", \"Validation R2\"])\n",
        "\n",
        "metrics.loc[:, \"Abs diff Train/Validation RMSE\"] = np.abs(metrics[\"Train RMSE\"]-metrics[\"Validation RMSE\"])\n",
        "metrics.loc[:, \"Abs diff Train/Validation Pearson\"] = np.abs(metrics[\"Train Pearson\"]-metrics[\"Validation Pearson\"])\n",
        "metrics.loc[:, \"Abs diff Train/Validation R2\"] = np.abs(metrics[\"Train R2\"]-metrics[\"Validation R2\"])\n",
        "\n",
        "best_l2 = metrics[metrics[\"Abs diff Train/Validation Pearson\"] ==\\\n",
        "        metrics.loc[:, \"Abs diff Train/Validation Pearson\"].min()][[\"L2 regularization strength\"]].values[0]\n",
        "\n",
        "clf = Ridge(alpha=best_l2, max_iter=1000000)\n",
        "clf.fit(X_train, Y_train)\n",
        "\n",
        "train_preds = clf.predict(X_train)\n",
        "test_preds = clf.predict(X_test)\n",
        "\n",
        "variable_weights = pd.DataFrame({\"Variable\": X_train.columns.values,\n",
        "              \"Regression coefficients\": clf.coef_}).sort_values(\n",
        "                by=\"Regression coefficients\", ascending=False)"
      ],
      "execution_count": null,
      "outputs": []
    },
    {
      "cell_type": "code",
      "metadata": {
        "id": "PZglZw9Am2IN",
        "colab": {
          "base_uri": "https://localhost:8080/",
          "height": 307
        },
        "outputId": "4577a50a-6a9a-44da-f045-e5cf9013a2ef"
      },
      "source": [
        "print(\"Top 5 positive model coefficients\")\n",
        "print(variable_weights.head(5))\n",
        "print()\n",
        "print(\"Bottom 5 negative model coefficients\")\n",
        "print(variable_weights.tail(5))"
      ],
      "execution_count": null,
      "outputs": [
        {
          "output_type": "stream",
          "text": [
            "Top 5 positive model coefficients\n",
            "            Variable  Regression coefficients\n",
            "87   cabins*Carnival                 0.544874\n",
            "3             length                 0.468848\n",
            "67   length*Carnival                 0.447826\n",
            "4             cabins                 0.338402\n",
            "75  length*Norwegian                 0.245306\n",
            "\n",
            "Bottom 5 negative model coefficients\n",
            "                        Variable  Regression coefficients\n",
            "115  passenger_density*Norwegian                -0.148219\n",
            "95              cabins*Norwegian                -0.156479\n",
            "107   passenger_density*Carnival                -0.203864\n",
            "2                     passengers                -0.204591\n",
            "55          passengers*Norwegian                -0.461542\n"
          ],
          "name": "stdout"
        }
      ]
    },
    {
      "cell_type": "markdown",
      "metadata": {
        "id": "z74i9mCEm2IS"
      },
      "source": [
        "Above we see top 5 positive model coefficients and bottom 5 negative coefficients. A coefficient (weight) can be interpreted as changing target variable prediction (crew size) by coefficient value for 1 unit increase in corresponding variable."
      ]
    },
    {
      "cell_type": "code",
      "metadata": {
        "id": "OZ8vrYb2m2IT",
        "colab": {
          "base_uri": "https://localhost:8080/",
          "height": 218
        },
        "outputId": "85bbfd63-4b92-4b41-a13a-0e65dbee8aab"
      },
      "source": [
        "fig, (ax1, ax2, ax3) = plt.subplots(3, sharex=True)\n",
        "fig.tight_layout(rect=[0, 0.03, 1, 0.95])\n",
        "\n",
        "fig.suptitle(\"Effects of L2 regularization on RMSE, Pearson and R^2 scores\")\n",
        "\n",
        "xticks = metrics[\"L2 regularization strength\"]\n",
        "\n",
        "ax1.plot(xticks, metrics[\"Train Pearson\"], label=\"Train Pearson\")\n",
        "ax1.plot(xticks, metrics[\"Validation Pearson\"], label=\"Validation Pearson\")\n",
        "ax1.axvline(best_l2, color=\"g\", linestyle=\"dashed\", linewidth=2)\n",
        "ax1.set_ylabel(\"Pearson\")\n",
        "ax1.legend()\n",
        "\n",
        "ax2.plot(xticks, metrics[\"Train RMSE\"], label=\"Train RMSE\")\n",
        "ax2.plot(xticks, metrics[\"Validation RMSE\"], label=\"Validation RMSE\")\n",
        "ax2.axvline(best_l2, color=\"g\", linestyle=\"dashed\", linewidth=2)\n",
        "ax2.set_ylabel(\"RMSE\")\n",
        "ax2.legend()\n",
        "\n",
        "ax3.plot(xticks, metrics[\"Train R2\"], label=\"Train R2\")\n",
        "ax3.plot(xticks, metrics[\"Validation R2\"], label=\"Validation R2\")\n",
        "ax3.axvline(best_l2, color=\"g\", linestyle=\"dashed\", linewidth=2)\n",
        "ax3.set_xlabel(\"L2 regularization strength\")\n",
        "ax3.set_ylabel(\"R2\")\n",
        "ax3.legend()\n",
        "\n",
        "plt.show()"
      ],
      "execution_count": null,
      "outputs": [
        {
          "output_type": "display_data",
          "data": {
            "image/png": "[encoded data removed]",
            "text/plain": [
              "<Figure size 432x288 with 3 Axes>"
            ]
          },
          "metadata": {
            "tags": [],
            "needs_background": "light"
          }
        }
      ]
    },
    {
      "cell_type": "markdown",
      "metadata": {
        "id": "TMrOOdMzm2IZ"
      },
      "source": [
        "The above plots show that when applying a stronger L2 regularization weight, the Ridge regression model performs better on the validation data, i.e. better generalization. A smaller L2 weight causes the model to overfit to the training data and generalize poorly to the validation data. No convergence is achieved on best balance between bias and variance, but the plots show that stronger L2 regularization weight improves the generalizability of the model over validation data (5-fold cross validation)."
      ]
    },
    {
      "cell_type": "code",
      "metadata": {
        "id": "gYBNVt2pm2IZ",
        "colab": {
          "base_uri": "https://localhost:8080/",
          "height": 244
        },
        "outputId": "05880081-2dac-4711-8849-37bc16f08e99"
      },
      "source": [
        "# Function to draw best fit line for actuals vs. predicted\n",
        "# Source: https://stackoverflow.com/questions/22104256/does-matplotlib-have-a-function-for-drawing-diagonal-lines-in-axis-coordinates\n",
        "def add_identity(axes, *line_args, **line_kwargs):\n",
        "    identity, = axes.plot([], [], *line_args, **line_kwargs)\n",
        "    def callback(axes):\n",
        "        low_x, high_x = axes.get_xlim()\n",
        "        low_y, high_y = axes.get_ylim()\n",
        "        low = max(low_x, low_y)\n",
        "        high = min(high_x, high_y)\n",
        "        identity.set_data([low, high], [low, high])\n",
        "    callback(axes)\n",
        "    axes.callbacks.connect('xlim_changed', callback)\n",
        "    axes.callbacks.connect('ylim_changed', callback)\n",
        "    return axes\n",
        "\n",
        "fig, (ax1, ax2) = plt.subplots(1, 2)\n",
        "fig.suptitle(\"Scatter plot of actuals vs. predicted\")\n",
        "ax1.scatter(Y_train, train_preds)\n",
        "ax1.set_ylabel(\"Predicted crew size\")\n",
        "ax1.set_xlabel(\"Actual crew size\")\n",
        "ax1.set_title(f\"Train Pearson: {np.round(pearsonr(Y_train, train_preds)[0],2)}\")\n",
        "add_identity(ax1, color='black', ls='--')\n",
        "\n",
        "ax2.scatter(Y_test, test_preds)\n",
        "ax1.set_ylabel(\"Predicted crew size\")\n",
        "ax2.set_xlabel(\"Actual crew size\")\n",
        "ax2.set_title(f\"Test Pearson: {np.round(pearsonr(Y_test, test_preds)[0],2)}\")\n",
        "add_identity(ax2, color='black', ls='--')\n",
        "\n",
        "plt.show()"
      ],
      "execution_count": null,
      "outputs": [
        {
          "output_type": "display_data",
          "data": {
            "image/png": "[encoded data removed]",
            "text/plain": [
              "<Figure size 432x288 with 2 Axes>"
            ]
          },
          "metadata": {
            "tags": [],
            "needs_background": "light"
          }
        }
      ]
    },
    {
      "cell_type": "markdown",
      "metadata": {
        "id": "TVPzHn9nm2Ie"
      },
      "source": [
        "Above scatter plots show predicted vs. actuals and Pearson score for train and test set. We can see that the Ridge regression model has learnt a good set of parameters which predict well both for train and test set. A Pearson score of 1 is perfect positive linear fit. We see .97 and .95 Pearson score for train and test set respectively."
      ]
    },
    {
      "cell_type": "code",
      "metadata": {
        "id": "qQHeSBYAm2Ie",
        "colab": {
          "base_uri": "https://localhost:8080/",
          "height": 161
        },
        "outputId": "bbfec4a0-c5ff-4c46-af73-2891750acb2d"
      },
      "source": [
        "print(f\"Train Pearson: {pearsonr(Y_train, train_preds)[0]}\")\n",
        "print(f\"Test Pearson: {pearsonr(Y_test, test_preds)[0]}\")\n",
        "print()\n",
        "print(f\"Train R^2: {r2_score(Y_train, train_preds)}\")\n",
        "print(f\"Test R^2: {r2_score(Y_test, test_preds)}\")\n",
        "print()\n",
        "print(f\"Train RMSE: {rmse(Y_train, train_preds)}\")\n",
        "print(f\"Test RMSE: {rmse(Y_test, test_preds)}\")"
      ],
      "execution_count": null,
      "outputs": [
        {
          "output_type": "stream",
          "text": [
            "Train Pearson: 0.9747282501552438\n",
            "Test Pearson: 0.9538371244914453\n",
            "\n",
            "Train R^2: 0.9500872833008748\n",
            "Test R^2: 0.8972697396111317\n",
            "\n",
            "Train RMSE: 0.7647542707295438\n",
            "Test RMSE: 1.1392709254735993\n"
          ],
          "name": "stdout"
        }
      ]
    },
    {
      "cell_type": "markdown",
      "metadata": {
        "id": "xTdK71Ium2Ii"
      },
      "source": [
        "Above is a print of Pearson, R^2 and RMSE scores for train and test set. We can see that performance is slightly worse for test set than for training set. However, still very good. We have found a good model."
      ]
    }
  ]
}